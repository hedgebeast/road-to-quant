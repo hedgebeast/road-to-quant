{
 "cells": [
  {
   "cell_type": "code",
   "execution_count": 1,
   "id": "a2822b0f",
   "metadata": {},
   "outputs": [],
   "source": [
    "import numpy as np\n",
    "import pandas as pd\n",
    "import datetime as dt\n",
    "import matplotlib.pyplot as plt\n",
    "\n",
    "import seaborn as sns\n",
    "sns.set()\n",
    "\n",
    "%matplotlib inline\n",
    "import warnings \n",
    "warnings.filterwarnings('ignore')"
   ]
  },
  {
   "cell_type": "code",
   "execution_count": 2,
   "id": "06f9eeb5",
   "metadata": {},
   "outputs": [],
   "source": [
    "loan_df = pd.read_csv('Data/Loan_Data.csv')"
   ]
  },
  {
   "cell_type": "code",
   "execution_count": 3,
   "id": "2973e573",
   "metadata": {},
   "outputs": [
    {
     "data": {
      "text/html": [
       "<div>\n",
       "<style scoped>\n",
       "    .dataframe tbody tr th:only-of-type {\n",
       "        vertical-align: middle;\n",
       "    }\n",
       "\n",
       "    .dataframe tbody tr th {\n",
       "        vertical-align: top;\n",
       "    }\n",
       "\n",
       "    .dataframe thead th {\n",
       "        text-align: right;\n",
       "    }\n",
       "</style>\n",
       "<table border=\"1\" class=\"dataframe\">\n",
       "  <thead>\n",
       "    <tr style=\"text-align: right;\">\n",
       "      <th></th>\n",
       "      <th>customer_id</th>\n",
       "      <th>credit_lines_outstanding</th>\n",
       "      <th>loan_amt_outstanding</th>\n",
       "      <th>total_debt_outstanding</th>\n",
       "      <th>income</th>\n",
       "      <th>years_employed</th>\n",
       "      <th>fico_score</th>\n",
       "      <th>default</th>\n",
       "    </tr>\n",
       "  </thead>\n",
       "  <tbody>\n",
       "    <tr>\n",
       "      <th>0</th>\n",
       "      <td>8153374</td>\n",
       "      <td>0</td>\n",
       "      <td>5221.545193</td>\n",
       "      <td>3915.471226</td>\n",
       "      <td>78039.38546</td>\n",
       "      <td>5</td>\n",
       "      <td>605</td>\n",
       "      <td>0</td>\n",
       "    </tr>\n",
       "    <tr>\n",
       "      <th>1</th>\n",
       "      <td>7442532</td>\n",
       "      <td>5</td>\n",
       "      <td>1958.928726</td>\n",
       "      <td>8228.752520</td>\n",
       "      <td>26648.43525</td>\n",
       "      <td>2</td>\n",
       "      <td>572</td>\n",
       "      <td>1</td>\n",
       "    </tr>\n",
       "    <tr>\n",
       "      <th>2</th>\n",
       "      <td>2256073</td>\n",
       "      <td>0</td>\n",
       "      <td>3363.009259</td>\n",
       "      <td>2027.830850</td>\n",
       "      <td>65866.71246</td>\n",
       "      <td>4</td>\n",
       "      <td>602</td>\n",
       "      <td>0</td>\n",
       "    </tr>\n",
       "    <tr>\n",
       "      <th>3</th>\n",
       "      <td>4885975</td>\n",
       "      <td>0</td>\n",
       "      <td>4766.648001</td>\n",
       "      <td>2501.730397</td>\n",
       "      <td>74356.88347</td>\n",
       "      <td>5</td>\n",
       "      <td>612</td>\n",
       "      <td>0</td>\n",
       "    </tr>\n",
       "    <tr>\n",
       "      <th>4</th>\n",
       "      <td>4700614</td>\n",
       "      <td>1</td>\n",
       "      <td>1345.827718</td>\n",
       "      <td>1768.826187</td>\n",
       "      <td>23448.32631</td>\n",
       "      <td>6</td>\n",
       "      <td>631</td>\n",
       "      <td>0</td>\n",
       "    </tr>\n",
       "  </tbody>\n",
       "</table>\n",
       "</div>"
      ],
      "text/plain": [
       "   customer_id  credit_lines_outstanding  loan_amt_outstanding   \n",
       "0      8153374                         0           5221.545193  \\\n",
       "1      7442532                         5           1958.928726   \n",
       "2      2256073                         0           3363.009259   \n",
       "3      4885975                         0           4766.648001   \n",
       "4      4700614                         1           1345.827718   \n",
       "\n",
       "   total_debt_outstanding       income  years_employed  fico_score  default  \n",
       "0             3915.471226  78039.38546               5         605        0  \n",
       "1             8228.752520  26648.43525               2         572        1  \n",
       "2             2027.830850  65866.71246               4         602        0  \n",
       "3             2501.730397  74356.88347               5         612        0  \n",
       "4             1768.826187  23448.32631               6         631        0  "
      ]
     },
     "execution_count": 3,
     "metadata": {},
     "output_type": "execute_result"
    }
   ],
   "source": [
    "loan_df.head()"
   ]
  },
  {
   "cell_type": "markdown",
   "id": "75e146cd",
   "metadata": {},
   "source": [
    "Requirement: Input an FICO score and accurately return a categorical value. Given a set number of buckets corresponding to the number of input labels for the model, find out the boundaries that best summarize the data. \n",
    "\n",
    "You need to create a rating map that maps the FICO score of the borrowers to a rating where a lower rating signifies a better credit score."
   ]
  },
  {
   "cell_type": "code",
   "execution_count": 21,
   "id": "01f9531a",
   "metadata": {},
   "outputs": [],
   "source": [
    "# The problem in its simplest form example!\n",
    "\n",
    "def bucket_customers_by_fico_score(fico_scores):\n",
    "\n",
    "    fico_score_buckets = {\"Excellent\": [], \n",
    "                          \"Great\": [], \n",
    "                          \"Very Good\": [], \n",
    "                          \"Good\": [],\n",
    "                          \"Fair\": [],\n",
    "                          \"Not Good\": [],\n",
    "                          \"Poor\": [],\n",
    "                          \"Bad\": [],\n",
    "                          \"Horrible\": [],\n",
    "                          \"Terrible\": []\n",
    "                         }\n",
    "    \n",
    "    for fico_score in fico_scores:\n",
    "        if fico_score[0] < 120:\n",
    "            fico_score_buckets[\"Excellent\"].append(fico_score)\n",
    "\n",
    "        elif fico_score[0] <= 120 and fico_score[0] < 240: \n",
    "            fico_score_buckets[\"Great\"].append(fico_score)\n",
    "\n",
    "        elif fico_score[0] <= 240 and fico_score[0] < 360:\n",
    "            fico_score_buckets[\"Very Good\"].append(fico_score)\n",
    "        \n",
    "        elif fico_score[0] <= 360 and fico_score[0] < 480: \n",
    "            fico_score_buckets[\"Good\"].append(fico_score)\n",
    "\n",
    "        elif fico_score[0] <= 480 and fico_score[0] < 600:\n",
    "            fico_score_buckets[\"Fair\"].append(fico_score)\n",
    "        \n",
    "        elif fico_score[0] <= 600 and fico_score[0] < 650: \n",
    "            fico_score_buckets[\"Not Good\"].append(fico_score)\n",
    "\n",
    "        elif fico_score[0] <= 650 and fico_score[0] < 700:\n",
    "            fico_score_buckets[\"Poor\"].append(fico_score)\n",
    "        \n",
    "        elif fico_score[0] <= 700 and fico_score[0] < 750: \n",
    "            fico_score_buckets[\"Bad\"].append(fico_score)\n",
    "\n",
    "        elif fico_score[0] <= 750 and fico_score[0] < 800:\n",
    "            fico_score_buckets[\"Horrible\"].append(fico_score)\n",
    "    \n",
    "        else:\n",
    "            fico_score_buckets[\"Terrible\"].append(fico_score)\n",
    "\n",
    "    return fico_score_buckets"
   ]
  },
  {
   "cell_type": "code",
   "execution_count": 8,
   "id": "f0e9e0cf",
   "metadata": {},
   "outputs": [],
   "source": [
    "from scipy.optimize import minimize"
   ]
  },
  {
   "cell_type": "code",
   "execution_count": 17,
   "id": "ebde7bfc",
   "metadata": {},
   "outputs": [],
   "source": [
    "# temp = list(loan_df[[\"fico_score\", \"default\"]].itertuples(index=False, name=None))"
   ]
  },
  {
   "cell_type": "code",
   "execution_count": 22,
   "id": "56ac805d",
   "metadata": {},
   "outputs": [],
   "source": [
    "fico_tuple = list(loan_df[[\"fico_score\", \"default\"]].itertuples(index=False, name=None))\n",
    "\n",
    "buckets = bucket_customers_by_fico_score(fico_tuple)"
   ]
  },
  {
   "cell_type": "code",
   "execution_count": 109,
   "id": "3fdac0b7",
   "metadata": {},
   "outputs": [],
   "source": [
    "ll_df = loan_df[[\"fico_score\", \"default\"]]"
   ]
  },
  {
   "cell_type": "code",
   "execution_count": 124,
   "id": "b8341c39",
   "metadata": {},
   "outputs": [],
   "source": [
    "def log_likelihood(buckets):\n",
    "    \n",
    "    LL_sum = 0\n",
    "    \n",
    "    for key in buckets:\n",
    "        n = len(buckets[key])\n",
    "        \n",
    "        if n != 0:\n",
    "#             print(\"n: \", n)\n",
    "            k = 0\n",
    "            for i in range(n):\n",
    "                k += buckets[key][i][1]\n",
    "#             print(\"k: \", k)\n",
    "\n",
    "            p = k/n\n",
    "#             print(\"p: \", p)\n",
    "            LL_sum += k*np.log(p) + (n-k)*np.log(1-p) \n",
    "            \n",
    "#         print(\"LL: \", LL_sum)\n",
    "\n",
    "    return LL_sum "
   ]
  },
  {
   "cell_type": "code",
   "execution_count": 126,
   "id": "6904a51b",
   "metadata": {},
   "outputs": [
    {
     "ename": "TypeError",
     "evalue": "minimize() missing 1 required positional argument: 'x0'",
     "output_type": "error",
     "traceback": [
      "\u001b[0;31m---------------------------------------------------------------------------\u001b[0m",
      "\u001b[0;31mTypeError\u001b[0m                                 Traceback (most recent call last)",
      "Cell \u001b[0;32mIn[126], line 1\u001b[0m\n\u001b[0;32m----> 1\u001b[0m \u001b[43mminimize\u001b[49m\u001b[43m(\u001b[49m\u001b[43mlog_likelihood\u001b[49m\u001b[43m)\u001b[49m\n",
      "\u001b[0;31mTypeError\u001b[0m: minimize() missing 1 required positional argument: 'x0'"
     ]
    }
   ],
   "source": [
    "minimize(log_likelihood, [])"
   ]
  },
  {
   "cell_type": "markdown",
   "id": "972e6cfe",
   "metadata": {},
   "source": [
    "  "
   ]
  },
  {
   "cell_type": "markdown",
   "id": "77195077",
   "metadata": {},
   "source": [
    "## Below is the Example Answer!"
   ]
  },
  {
   "cell_type": "code",
   "execution_count": 127,
   "id": "026cdcc1",
   "metadata": {},
   "outputs": [
    {
     "name": "stdout",
     "output_type": "stream",
     "text": [
      "10000 10000\n"
     ]
    }
   ],
   "source": [
    "x = loan_df['default'].to_list()\n",
    "y = loan_df['fico_score'].to_list()\n",
    "n = len(x)\n",
    "print (len(x), len(y))"
   ]
  },
  {
   "cell_type": "code",
   "execution_count": 131,
   "id": "a1ce156c",
   "metadata": {},
   "outputs": [
    {
     "data": {
      "text/plain": [
       "605"
      ]
     },
     "execution_count": 131,
     "metadata": {},
     "output_type": "execute_result"
    }
   ],
   "source": [
    "y[0]"
   ]
  },
  {
   "cell_type": "code",
   "execution_count": 140,
   "id": "b7159914",
   "metadata": {},
   "outputs": [],
   "source": [
    "# [[[-10**18, 0] for i in range(551)] for j in range(10+1)]"
   ]
  },
  {
   "cell_type": "code",
   "execution_count": 128,
   "id": "3365cb0b",
   "metadata": {},
   "outputs": [
    {
     "name": "stdout",
     "output_type": "stream",
     "text": [
      "-4217.8245\n",
      "[850, 753, 752, 732, 696, 649, 611, 580, 552, 520, 300]\n"
     ]
    }
   ],
   "source": [
    "# Initialising list \n",
    "default = [0 for i in range(851)]\n",
    "total = [0 for i in range(851)]\n",
    "\n",
    "for i in range(n):\n",
    "    y[i] = int(y[i])\n",
    "    default[y[i]-300] += x[i]  # Why do we need to -300 from the fico_score value y[i]? Trying to randomise??\n",
    "    total[y[i]-300] += 1\n",
    "    \n",
    "for i in range(0, 551):\n",
    "    default[i] += default[i-1]\n",
    "    total[i] += total[i-1]\n",
    "    \n",
    "def log_likelihood(n, k):\n",
    "    p = k/n\n",
    "    \n",
    "    if (p==0 or p==1):\n",
    "        return 0\n",
    "    \n",
    "    return k*np.log(p)+ (n-k)*np.log(1-p)\n",
    "\n",
    "r = 10 #rank 10 => 10 buckets\n",
    "\n",
    "# The code then initializes a three-dimensional array, dp, \n",
    "# that is used to store the calculated log-likelihood values for different sets of observations. \n",
    "# The first dimension represents the number of iterations performed, \n",
    "# the second dimension represents the rank of the observation, \n",
    "# and the third dimension represents the log-likelihood and the index of the previous observation.\n",
    "\n",
    "dp = [[[-10**18, 0] for i in range(551)] for j in range(r+1)]\n",
    "\n",
    "\n",
    "for i in range(r+1):\n",
    "    for j in range(551):\n",
    "        if (i==0):\n",
    "            dp[i][j][0] = 0\n",
    "        else:\n",
    "            for k in range(j):\n",
    "                if (total[j]==total[k]):\n",
    "                    continue\n",
    "                if (i==1):\n",
    "                    dp[i][j][0] = log_likelihood(total[j], default[j])\n",
    "                else:\n",
    "                    if (dp[i][j][0] < (dp[i-1][k][0] + log_likelihood(total[j]-total[k], default[j] - default[k]))):\n",
    "                        dp[i][j][0] = log_likelihood(total[j]-total[k], default[j]-default[k]) + dp[i-1][k][0]\n",
    "                        dp[i][j][1] = k\n",
    "                                                     \n",
    "print (round(dp[r][550][0], 4))\n",
    "                                                     \n",
    "k = 550\n",
    "l = []\n",
    "while r >= 0:\n",
    "    l.append(k+300)\n",
    "    k = dp[r][k][1]\n",
    "    r -= 1\n",
    "\n",
    "print(l)\n"
   ]
  }
 ],
 "metadata": {
  "kernelspec": {
   "display_name": "Python 3 (ipykernel)",
   "language": "python",
   "name": "python3"
  },
  "language_info": {
   "codemirror_mode": {
    "name": "ipython",
    "version": 3
   },
   "file_extension": ".py",
   "mimetype": "text/x-python",
   "name": "python",
   "nbconvert_exporter": "python",
   "pygments_lexer": "ipython3",
   "version": "3.11.3"
  }
 },
 "nbformat": 4,
 "nbformat_minor": 5
}
