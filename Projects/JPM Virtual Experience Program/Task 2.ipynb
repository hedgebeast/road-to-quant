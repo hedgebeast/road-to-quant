{
 "cells": [
  {
   "cell_type": "code",
   "execution_count": 56,
   "id": "b8d16ff4",
   "metadata": {},
   "outputs": [],
   "source": [
    "import numpy as np\n",
    "import pandas as pd\n",
    "import datetime as dt\n",
    "import matplotlib.pyplot as plt\n",
    "\n",
    "import seaborn as sns\n",
    "sns.set()\n",
    "\n",
    "from statsmodels.tsa.statespace.sarimax import SARIMAX\n",
    "from scipy import interpolate\n",
    "\n",
    "%matplotlib inline\n",
    "import warnings \n",
    "warnings.filterwarnings('ignore')"
   ]
  },
  {
   "cell_type": "code",
   "execution_count": 64,
   "id": "cf0da99f",
   "metadata": {},
   "outputs": [],
   "source": [
    "def forecast():\n",
    "    nat_gas = pd.read_csv('Data/Nat_Gas.csv', date_parser=True)\n",
    "\n",
    "    nat_gas['Dates'] = pd.to_datetime(nat_gas['Dates'], format='%m/%d/%y')\n",
    "    nat_gas['Dates'] = nat_gas['Dates'].dt.date\n",
    "\n",
    "    nat_gas.set_index(\"Dates\", inplace=True)\n",
    "    nat_gas = nat_gas.asfreq('M')\n",
    "    \n",
    "    train = nat_gas.iloc[:36]\n",
    "    test = nat_gas.iloc[36:]\n",
    "    start = len(train)\n",
    "    end = len(train) + len(test) - 1\n",
    "    \n",
    "    seasonal_model = SARIMAX(nat_gas.Prices, order=(2,1,2), seasonal_order=(1,0,1,12),\n",
    "                        enforce_invertibility=False, enforce_stationarity=True, trend='c')\n",
    "    seasonal_results = seasonal_model.fit()\n",
    "    seasonal_forecast = seasonal_results.predict(len(nat_gas), len(nat_gas)+12).rename('Forecasts');\n",
    "    \n",
    "    forecast = pd.DataFrame()\n",
    "    forecast['Dates'] = pd.date_range('2024-10-31', '2025-10-31', freq='M')\n",
    "    forecast['Dates'] = forecast['Dates'].dt.date\n",
    "\n",
    "\n",
    "    forecast['Prices'] = seasonal_forecast.values\n",
    "    \n",
    "    \n",
    "    return forecast"
   ]
  },
  {
   "cell_type": "code",
   "execution_count": 65,
   "id": "1d2569a5",
   "metadata": {},
   "outputs": [
    {
     "name": "stdout",
     "output_type": "stream",
     "text": [
      "RUNNING THE L-BFGS-B CODE\n",
      "\n",
      "           * * *\n",
      "\n",
      "Machine precision = 2.220D-16\n",
      " N =            8     M =           10\n",
      "\n",
      "At X0         0 variables are exactly at the bounds\n",
      "\n",
      "At iterate    0    f=  3.03941D+01    |proj g|=  2.70969D+00\n",
      "  ys=-3.333E+01  -gs= 9.507E-01 BFGS update SKIPPED\n"
     ]
    },
    {
     "name": "stderr",
     "output_type": "stream",
     "text": [
      " This problem is unconstrained.\n"
     ]
    },
    {
     "name": "stdout",
     "output_type": "stream",
     "text": [
      "\n",
      "           * * *\n",
      "\n",
      "Tit   = total number of iterations\n",
      "Tnf   = total number of function evaluations\n",
      "Tnint = total number of segments explored during Cauchy searches\n",
      "Skip  = number of BFGS updates skipped\n",
      "Nact  = number of active bounds at final generalized Cauchy point\n",
      "Projg = norm of the final projected gradient\n",
      "F     = final function value\n",
      "\n",
      "           * * *\n",
      "\n",
      "   N    Tit     Tnf  Tnint  Skip  Nact     Projg        F\n",
      "    8      4     72      2     1     0   5.945D+04   1.905D+01\n",
      "  F =   19.045842996702103     \n",
      "\n",
      "ABNORMAL_TERMINATION_IN_LNSRCH                              \n"
     ]
    },
    {
     "name": "stderr",
     "output_type": "stream",
     "text": [
      "\n",
      " Bad direction in the line search;\n",
      "   refresh the lbfgs memory and restart the iteration.\n",
      "\n",
      " Line search cannot locate an adequate point after MAXLS\n",
      "  function and gradient evaluations.\n",
      "  Previous x, f and g restored.\n",
      " Possible causes: 1 error in function or gradient evaluation;\n",
      "                  2 rounding error dominate computation.\n"
     ]
    }
   ],
   "source": [
    "forecast_df = forecast()"
   ]
  },
  {
   "cell_type": "code",
   "execution_count": 81,
   "id": "4d05027a",
   "metadata": {},
   "outputs": [],
   "source": [
    "nat_gas = pd.read_csv('Data/Nat_Gas.csv')\n",
    "\n",
    "nat_gas['Dates'] = pd.to_datetime(nat_gas['Dates'], format='%m/%d/%y')\n",
    "nat_gas['Dates'] = nat_gas['Dates'].dt.date\n",
    "\n",
    "df = pd.concat([nat_gas, forecast_df], axis=0)\n",
    "df.reset_index(inplace=True)\n",
    "df.drop(['index'], axis=1, inplace=True)"
   ]
  },
  {
   "cell_type": "code",
   "execution_count": 82,
   "id": "03f107ca",
   "metadata": {},
   "outputs": [],
   "source": [
    "df['int_date'] = df.Dates.apply(lambda x: x.year * 10000 + x.month * 100 + x.day)"
   ]
  },
  {
   "cell_type": "code",
   "execution_count": 83,
   "id": "fe029edb",
   "metadata": {},
   "outputs": [
    {
     "data": {
      "text/html": [
       "<div>\n",
       "<style scoped>\n",
       "    .dataframe tbody tr th:only-of-type {\n",
       "        vertical-align: middle;\n",
       "    }\n",
       "\n",
       "    .dataframe tbody tr th {\n",
       "        vertical-align: top;\n",
       "    }\n",
       "\n",
       "    .dataframe thead th {\n",
       "        text-align: right;\n",
       "    }\n",
       "</style>\n",
       "<table border=\"1\" class=\"dataframe\">\n",
       "  <thead>\n",
       "    <tr style=\"text-align: right;\">\n",
       "      <th></th>\n",
       "      <th>Dates</th>\n",
       "      <th>Prices</th>\n",
       "      <th>int_date</th>\n",
       "    </tr>\n",
       "  </thead>\n",
       "  <tbody>\n",
       "    <tr>\n",
       "      <th>0</th>\n",
       "      <td>2020-10-31</td>\n",
       "      <td>10.1</td>\n",
       "      <td>20201031</td>\n",
       "    </tr>\n",
       "  </tbody>\n",
       "</table>\n",
       "</div>"
      ],
      "text/plain": [
       "        Dates  Prices  int_date\n",
       "0  2020-10-31    10.1  20201031"
      ]
     },
     "execution_count": 83,
     "metadata": {},
     "output_type": "execute_result"
    }
   ],
   "source": [
    "df.head(1)"
   ]
  },
  {
   "cell_type": "markdown",
   "id": "55e81e6a",
   "metadata": {},
   "source": [
    "### Task: Create a prototype pricing model that can go through further validation and testing before being put into production. Eventually, this model may be the basis for fully automated quoting to clients, but for now, the desk will use it with manual oversight to explore options with the client. "
   ]
  },
  {
   "cell_type": "markdown",
   "id": "e83bc26a",
   "metadata": {},
   "source": [
    "The input parameters that should be taken into account for pricing are:\n",
    "\n",
    "- Injection dates \n",
    "- Withdrawal dates\n",
    "- The prices at which the commodity can be purchased/sold on those dates\n",
    "- The rate at which the gas can be injected/withdrawn\n",
    "- The maximum volume that can be stored\n",
    "- Storage costs"
   ]
  },
  {
   "cell_type": "markdown",
   "id": "a14777cb",
   "metadata": {},
   "source": [
    "For this task, I will use linear interpolation to get the price of natural gas that is between the start of the data and the end of the forecasted data predicted in Task 1."
   ]
  },
  {
   "cell_type": "code",
   "execution_count": 118,
   "id": "6ee44cbf",
   "metadata": {},
   "outputs": [],
   "source": [
    "f = interpolate.interp1d(df['int_date'].values,df['Prices'].values)\n",
    "\n",
    "def pricing_model(injection_dates, withdrawal_dates, rate=100000, max_vol=500000, storage_cost_rate=10000, injection_withdrawal_cost_rate = 0.0005):\n",
    "    \n",
    "    volume = 0\n",
    "    buy_cost = 0\n",
    "    cash_in = 0\n",
    "\n",
    "#     in_prices = [20, 21, 20.5, 22]#prices on the injection days\n",
    "#     out_prices = [23, 19, 21, 25] # prices on the extraction days\n",
    "     \n",
    "    # Ensure dates are in sequence\n",
    "    all_dates = sorted(set(injection_dates + withdrawal_dates))\n",
    "    int_date = lambda x: x.year * 10000 + x.month * 100 + x.day\n",
    "\n",
    "\n",
    "    for i in range(len(all_dates)):\n",
    "        # processing code for each date\n",
    "        date = all_dates[i]\n",
    "        \n",
    "        price = f(int_date(date))   #Using interpolated price brought forward from task 1\n",
    "\n",
    "        if date in injection_dates:\n",
    "            # Inject on these dates and sum up cash flows\n",
    "            if volume <= max_vol - rate:\n",
    "                volume += rate\n",
    "\n",
    "                # Cost to purchase gas\n",
    "                buy_cost += rate * price\n",
    "                \n",
    "                # Injection cost\n",
    "                injection_cost = rate * injection_withdrawal_cost_rate\n",
    "                buy_cost += injection_cost\n",
    "                \n",
    "                print('Injected gas on %s at a price of %s'%(date, price))\n",
    "\n",
    "            else:\n",
    "                # We do not want to inject when rate is greater than total volume minus volume\n",
    "                print('Injection is not possible on date %s as there is insufficient space in the storage facility'%start_date)\n",
    "                \n",
    "        elif date in withdrawal_dates:\n",
    "            #Withdraw on these dates and sum cash flows\n",
    "            if volume >= rate:\n",
    "                volume -= rate\n",
    "                \n",
    "                cash_in += rate * price\n",
    "                \n",
    "                # Withdrawal cost\n",
    "                withdrawal_cost = rate * injection_withdrawal_cost_rate\n",
    "                cash_in -= withdrawal_cost\n",
    "                \n",
    "                print('Extracted gas on %s at a price of %s'%(date, price))\n",
    "                \n",
    "            else:\n",
    "                # we cannot withdraw more gas than is actually stored\n",
    "                print('Extraction is not possible on date %s as there is insufficient volume of gas stored'%start_date)\n",
    "                \n",
    "    store_cost = math.ceil((max(withdrawal_dates) - min(injection_dates)).days // 30) * storage_cost_rate\n",
    "    \n",
    "    return cash_in - store_cost - buy_cost\n",
    "    \n",
    "#     month_diff = month_diff(injection_dates, withdrawal_dates)\n",
    "#     total_storage = month_diff * storage_cost_rate\n",
    "    \n",
    "#     contract_price = (f(df[df['Dates'] == withdrawal_dates][['int_date']])[0] - price)*max_vol - total_storage - rate*max_vol\n",
    "    \n",
    "#     return contract_price"
   ]
  },
  {
   "cell_type": "code",
   "execution_count": 107,
   "id": "75c84380",
   "metadata": {},
   "outputs": [],
   "source": [
    "# f(20241105)"
   ]
  },
  {
   "cell_type": "code",
   "execution_count": 101,
   "id": "dcddf0d3",
   "metadata": {},
   "outputs": [
    {
     "data": {
      "text/html": [
       "<div>\n",
       "<style scoped>\n",
       "    .dataframe tbody tr th:only-of-type {\n",
       "        vertical-align: middle;\n",
       "    }\n",
       "\n",
       "    .dataframe tbody tr th {\n",
       "        vertical-align: top;\n",
       "    }\n",
       "\n",
       "    .dataframe thead th {\n",
       "        text-align: right;\n",
       "    }\n",
       "</style>\n",
       "<table border=\"1\" class=\"dataframe\">\n",
       "  <thead>\n",
       "    <tr style=\"text-align: right;\">\n",
       "      <th></th>\n",
       "      <th>Prices</th>\n",
       "    </tr>\n",
       "  </thead>\n",
       "  <tbody>\n",
       "    <tr>\n",
       "      <th>49</th>\n",
       "      <td>377894.159674</td>\n",
       "    </tr>\n",
       "  </tbody>\n",
       "</table>\n",
       "</div>"
      ],
      "text/plain": [
       "           Prices\n",
       "49  377894.159674"
      ]
     },
     "execution_count": 101,
     "metadata": {},
     "output_type": "execute_result"
    }
   ],
   "source": [
    "pricing_model(dt.date(2024,11,30), dt.date(2025,5,31), df[df['Dates'] == dt.date(2024,11,30)][['Prices']])"
   ]
  },
  {
   "cell_type": "code",
   "execution_count": 129,
   "id": "27fee196",
   "metadata": {},
   "outputs": [
    {
     "name": "stdout",
     "output_type": "stream",
     "text": [
      "Injected gas on 2023-06-01 at a price of 10.987878787878788\n",
      "Extracted gas on 2024-01-01 at a price of 12.60067415730337\n",
      "\n",
      "The value of the contract is: $91179.53694245801\n"
     ]
    }
   ],
   "source": [
    "# Example usage of price_contract()\n",
    "# in_dates = [dt.date(2022, 1, 1), dt.date(2022, 2, 1), dt.date(2022, 2, 21), dt.date(2022, 4, 1)] #injection dates\n",
    "# out_dates = [dt.date(2022, 1, 27), dt.date(2022, 2, 15), dt.date(2022, 3, 20), dt.date(2022, 6, 1)] # extraction dates\n",
    "\n",
    "in_dates = [dt.date(2023, 6, 1)] #injection dates\n",
    "out_dates = [dt.date(2024, 1, 1)] # extraction dates\n",
    "\n",
    "result = pricing_model(in_dates, out_dates)\n",
    "\n",
    "print()\n",
    "print(f\"The value of the contract is: ${result}\")"
   ]
  },
  {
   "cell_type": "markdown",
   "id": "8f65ee23",
   "metadata": {},
   "source": [
    "  "
   ]
  },
  {
   "cell_type": "markdown",
   "id": "77195077",
   "metadata": {},
   "source": [
    "## Below is the Example Answer!"
   ]
  },
  {
   "attachments": {},
   "cell_type": "markdown",
   "id": "d9cf24e8",
   "metadata": {},
   "source": [
    "Undertaking trades on given dates for a contract involving the buying, storing, and selling of natural gas the\n",
    "storage cost of the gas, the injection/withdrawal. The value of the contract is the profit or loss obtained by\n",
    "undertaking the trades on given dates."
   ]
  },
  {
   "cell_type": "code",
   "execution_count": 106,
   "id": "45ac32b4",
   "metadata": {},
   "outputs": [
    {
     "name": "stdout",
     "output_type": "stream",
     "text": [
      "Injected gas on 2022-01-01 at a price of 20\n",
      "Extracted gas on 2022-01-27 at a price of 23\n",
      "Injected gas on 2022-02-01 at a price of 21\n",
      "Extracted gas on 2022-02-15 at a price of 19\n",
      "Injected gas on 2022-02-21 at a price of 20.5\n",
      "Extracted gas on 2022-03-20 at a price of 21\n",
      "Injected gas on 2022-04-01 at a price of 22\n",
      "Extracted gas on 2022-06-01 at a price of 25\n",
      "\n",
      "The value of the contract is: $399600.0\n"
     ]
    }
   ],
   "source": [
    "import math\n",
    "\n",
    "def price_contract(in_dates, in_prices, out_dates, out_prices, rate, storage_cost_rate, total_vol, injection_withdrawal_cost_rate):\n",
    "    volume = 0\n",
    "    buy_cost = 0\n",
    "    cash_in = 0\n",
    "    \n",
    "    # Ensure dates are in sequence\n",
    "    all_dates = sorted(set(in_dates + out_dates))\n",
    "    \n",
    "    for i in range(len(all_dates)):\n",
    "        # processing code for each date\n",
    "        start_date = all_dates[i]\n",
    "\n",
    "        if start_date in in_dates:\n",
    "            # Inject on these dates and sum up cash flows\n",
    "            if volume <= total_vol - rate:\n",
    "                volume += rate\n",
    "\n",
    "                # Cost to purchase gas\n",
    "                buy_cost += rate * in_prices[in_dates.index(start_date)]\n",
    "                \n",
    "                # Injection cost\n",
    "                injection_cost = rate * injection_withdrawal_cost_rate\n",
    "                buy_cost += injection_cost\n",
    "                print('Injected gas on %s at a price of %s'%(start_date, in_prices[in_dates.index(start_date)]))\n",
    "\n",
    "            else:\n",
    "                # We do not want to inject when rate is greater than total volume minus volume\n",
    "                print('Injection is not possible on date %s as there is insufficient space in the storage facility'%start_date)\n",
    "                \n",
    "        elif start_date in out_dates:\n",
    "            #Withdraw on these dates and sum cash flows\n",
    "            if volume >= rate:\n",
    "                volume -= rate\n",
    "                \n",
    "                cash_in += rate * out_prices[out_dates.index(start_date)]\n",
    "                \n",
    "                # Withdrawal cost\n",
    "                withdrawal_cost = rate * injection_withdrawal_cost_rate\n",
    "                cash_in -= withdrawal_cost\n",
    "                print('Extracted gas on %s at a price of %s'%(start_date, out_prices[out_dates.index(start_date)]))\n",
    "                \n",
    "            else:\n",
    "                # we cannot withdraw more gas than is actually stored\n",
    "                print('Extraction is not possible on date %s as there is insufficient volume of gas stored'%start_date)\n",
    "                \n",
    "    store_cost = math.ceil((max(out_dates) - min(in_dates)).days // 30) * storage_cost_rate\n",
    "    \n",
    "    return cash_in - store_cost - buy_cost\n",
    "\n",
    "# Example usage of price_contract()\n",
    "in_dates = [dt.date(2022, 1, 1), dt.date(2022, 2, 1), dt.date(2022, 2, 21), dt.date(2022, 4, 1)] #injection dates\n",
    "in_prices = [20, 21, 20.5, 22]#prices on the injection days\n",
    "\n",
    "out_dates = [dt.date(2022, 1, 27), dt.date(2022, 2, 15), dt.date(2022, 3, 20), dt.date(2022, 6, 1)] # extraction dates\n",
    "out_prices = [23, 19, 21, 25] # prices on the extraction days\n",
    "\n",
    "rate = 100000  # rate of gas in cubic feet per day\n",
    "storage_cost_rate = 10000  # total volume in cubic feet\n",
    "injection_withdrawal_cost_rate = 0.0005  # $/cf\n",
    "max_storage_volume = 500000 # maximum storage capacity of the storage facility\n",
    "result = price_contract(in_dates, in_prices, out_dates, out_prices, rate, storage_cost_rate, max_storage_volume, injection_withdrawal_cost_rate)\n",
    "print()\n",
    "print(f\"The value of the contract is: ${result}\")\n"
   ]
  }
 ],
 "metadata": {
  "kernelspec": {
   "display_name": "Python 3 (ipykernel)",
   "language": "python",
   "name": "python3"
  },
  "language_info": {
   "codemirror_mode": {
    "name": "ipython",
    "version": 3
   },
   "file_extension": ".py",
   "mimetype": "text/x-python",
   "name": "python",
   "nbconvert_exporter": "python",
   "pygments_lexer": "ipython3",
   "version": "3.11.3"
  }
 },
 "nbformat": 4,
 "nbformat_minor": 5
}
