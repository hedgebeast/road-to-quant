{
 "cells": [
  {
   "cell_type": "code",
   "execution_count": 16,
   "id": "65a7c130",
   "metadata": {},
   "outputs": [],
   "source": [
    "from scipy.integrate import quad\n",
    "\n",
    "import numpy as np\n",
    "import pandas as pd\n",
    "from scipy.stats import norm\n",
    "from scipy import interpolate\n",
    "\n",
    "import warnings \n",
    "warnings.filterwarnings('ignore')"
   ]
  },
  {
   "cell_type": "code",
   "execution_count": 3,
   "id": "54bbc283",
   "metadata": {},
   "outputs": [
    {
     "name": "stdout",
     "output_type": "stream",
     "text": [
      "The integral is: 0.333\n"
     ]
    }
   ],
   "source": [
    "#Testing integration\n",
    "def integrand(x):\n",
    "    return x**2\n",
    "\n",
    "I = quad(integrand, 0.0, 1.0)\n",
    "print('The integral is: %.3f' % I[0])"
   ]
  },
  {
   "cell_type": "code",
   "execution_count": 17,
   "id": "63772a3f",
   "metadata": {},
   "outputs": [],
   "source": [
    "spx = pd.read_csv('SPX_options.csv') #European\n",
    "rates = pd.read_csv('zero_rates_20201201.csv') #discount rate on 1st dec 2020\n",
    "\n",
    "spx['strike_price'] = spx['strike_price']/ 1000\n",
    "spx['midprice'] = (spx['best_bid'] + spx['best_offer']) / 2\n",
    "\n",
    "# Changing columns to datetime format\n",
    "spx['exdate'] = pd.to_datetime(spx['exdate'],format='%Y%m%d')\n",
    "spx['date'] = pd.to_datetime(spx['date'],format='%Y%m%d')\n",
    "spx['maturityDays'] = (spx['exdate'] - spx['date']).dt.days\n",
    "maturitiesDays_spx =  spx['maturityDays'].unique()\n",
    "\n",
    "# Inteprolating rates\n",
    "iRates = []\n",
    "f=interpolate.interp1d(rates['days'].values,rates['rate'].values)\n",
    "\n",
    "for day in maturitiesDays_spx:\n",
    "    tempRate=f(int(day))\n",
    "    r = tempRate / 100\n",
    "    iRates.append(r)"
   ]
  },
  {
   "cell_type": "markdown",
   "id": "a6792634",
   "metadata": {},
   "source": [
    "### Given $h(S_T) = S_T^{1/3} + \\frac{3}{2}log(S_T) + 10 \\hspace{0.3cm}$"
   ]
  },
  {
   "cell_type": "markdown",
   "id": "fb4e9f6e",
   "metadata": {},
   "source": [
    "With $h(S_T) = S_T^{1/3} + \\frac{3}{2}log(S_T) + 10 $, we have  $h(F) = F^{1/3} + \\frac{3}{2}log(F) + 10$\n",
    "\n",
    "$\\implies h'(S_T) = \\frac{1}{3}S_T^{-\\frac{2}{3}} + \\frac{3}{2}S_T^{-1} \\hspace{0.5cm}$ and $\\hspace{0.5cm}h''(S_T) = -\\frac{2}{9}S_T^{-\\frac{5}{3}} - \\frac{3}{2}S_T^{-2}$  \n",
    "\n",
    "$\\implies h'(K) = \\frac{1}{3K^{\\frac{2}{3}}} + \\frac{3}{2K} \\hspace{0.5cm}$ and $\\hspace{0.5cm}h''(K) = -\\frac{2}{9K^{\\frac{5}{3}}} - \\frac{3}{2K^{2}}$\n",
    "\n"
   ]
  },
  {
   "cell_type": "markdown",
   "id": "9663b5b7",
   "metadata": {},
   "source": [
    "### Calibrated SABR model parameters: $\\alpha$ = 1.817, $\\beta$ = 0.7, $\\rho$ = -0.404, $\\nu$ = 2.790"
   ]
  },
  {
   "cell_type": "code",
   "execution_count": 18,
   "id": "70e145d1",
   "metadata": {},
   "outputs": [],
   "source": [
    "def BlackCall(F, K, r, sigma, T):\n",
    "    d1 = (np.log(F / K) + (sigma ** 2 / 2) * T) / (sigma * np.sqrt(T))\n",
    "    d2 = d1 - sigma * np.sqrt(T)\n",
    "    return np.exp(-r*T) * (F*norm.cdf(d1) - K*norm.cdf(d2))\n",
    "\n",
    "def BlackPut(F, K, r, sigma, T):\n",
    "    d1 = (np.log(F/K)+(sigma**2/2)*T) / (sigma*np.sqrt(T))\n",
    "    d2 = d1 - sigma*np.sqrt(T)\n",
    "    return np.exp(-r*T) * (K*norm.cdf(-d2) - F*norm.cdf(-d1))"
   ]
  },
  {
   "cell_type": "code",
   "execution_count": 23,
   "id": "378d3550",
   "metadata": {},
   "outputs": [],
   "source": [
    "def SABR(F, K, T, alpha, beta, rho, nu):\n",
    "    X = K\n",
    "    # if K is at-the-money-forward\n",
    "    if abs(F - K) < 1e-12:\n",
    "        numer1 = (((1 - beta)**2)/24)*alpha*alpha/(F**(2 - 2*beta))\n",
    "        numer2 = 0.25*rho*beta*nu*alpha/(F**(1 - beta))\n",
    "        numer3 = ((2 - 3*rho*rho)/24)*nu*nu\n",
    "        VolAtm = alpha*(1 + (numer1 + numer2 + numer3)*T)/(F**(1-beta))\n",
    "        sabrsigma = VolAtm\n",
    "    else:\n",
    "        z = (nu/alpha)*((F*X)**(0.5*(1-beta)))*np.log(F/X)\n",
    "        zhi = np.log((((1 - 2*rho*z + z*z)**0.5) + z - rho)/(1 - rho))\n",
    "        numer1 = (((1 - beta)**2)/24)*((alpha*alpha)/((F*X)**(1 - beta)))\n",
    "        numer2 = 0.25*rho*beta*nu*alpha/((F*X)**((1 - beta)/2))\n",
    "        numer3 = ((2 - 3*rho*rho)/24)*nu*nu\n",
    "        numer = alpha*(1 + (numer1 + numer2 + numer3)*T)*z\n",
    "        denom1 = ((1 - beta)**2/24)*(np.log(F/X))**2\n",
    "        denom2 = (((1 - beta)**4)/1920)*((np.log(F/X))**4)\n",
    "        denom = ((F*X)**((1 - beta)/2))*(1 + denom1 + denom2)*zhi\n",
    "        sabrsigma = numer/denom\n",
    "\n",
    "    return sabrsigma\n",
    "\n",
    "def SABRCall(F, K, r, alpha, beta, rho, nu, T):\n",
    "    sabr_vol = SABR(F, K, T, alpha, beta, rho, nu)\n",
    "    return BlackCall(F, K, r, sabr_vol, T)\n",
    "\n",
    "\n",
    "def SABRPut(F, K, r, alpha, beta, rho, nu, T):\n",
    "    sabr_vol = SABR(F, K, T, alpha, beta, rho, nu) \n",
    "    return BlackPut(F, K, r, sabr_vol, T)"
   ]
  },
  {
   "cell_type": "markdown",
   "id": "8f962377",
   "metadata": {},
   "source": [
    "#### Recall that $h''(K) = -\\frac{2}{9K^{\\frac{5}{3}}} - \\frac{3}{2K^{2}}$\n",
    "\n"
   ]
  },
  {
   "cell_type": "code",
   "execution_count": 29,
   "id": "12975282",
   "metadata": {},
   "outputs": [],
   "source": [
    "def sabrputintegrand(K, F, r, T, alpha, beta, rho, nu):\n",
    "    h_k_twice = -(2/(9*(K**(5/3))) + (3/(2*(K**2))))\n",
    "    price = h_k_twice * SABRPut(F, K, r, alpha, beta, rho, nu, T)   \n",
    "    return price\n",
    "\n",
    "def sabrcallintegrand(K, F, r, T, alpha, beta, rho, nu):\n",
    "    h_k_twice = -(2/(9*(K**(5/3))) + (3/(2*(K**2))))\n",
    "    price = h_k_twice * SABRCall(F, K, r, alpha, beta, rho, nu, T) \n",
    "    return price"
   ]
  },
  {
   "cell_type": "code",
   "execution_count": 30,
   "id": "47442831",
   "metadata": {},
   "outputs": [],
   "source": [
    "alpha, beta, rho, nu = 1.817, 0.7, -0.404, 2.790\n",
    "\n",
    "# On 1-Dec-2020, the S&P500 (SPX) index value was 3662.45\n",
    "SPX_price = 3662.45\n",
    "\n",
    "tempIndex = np.where(maturitiesDays_spx == 45)[0][0]\n",
    "r = iRates[tempIndex]\n",
    "T = day/365\n",
    "F = SPX_price * np.exp(r*T)\n",
    "\n",
    "\n",
    "I_put = quad(lambda x: sabrputintegrand(x, F, r, T, alpha, beta, rho, nu), 0.0, F)\n",
    "I_call = quad(lambda x: sabrcallintegrand(x, F, r, T, alpha, beta, rho, nu), F, np.inf)\n",
    "sabrExoticPrice = np.exp(-r*T)*((F**(1/3)) + 1.5*np.log(F) + 10) + I_put[0] + I_call[0] "
   ]
  },
  {
   "cell_type": "code",
   "execution_count": 28,
   "id": "87adc8ba",
   "metadata": {},
   "outputs": [
    {
     "data": {
      "text/plain": [
       "37.603660397045296"
      ]
     },
     "execution_count": 28,
     "metadata": {},
     "output_type": "execute_result"
    }
   ],
   "source": [
    "sabrExoticPrice"
   ]
  }
 ],
 "metadata": {
  "kernelspec": {
   "display_name": "Python 3 (ipykernel)",
   "language": "python",
   "name": "python3"
  },
  "language_info": {
   "codemirror_mode": {
    "name": "ipython",
    "version": 3
   },
   "file_extension": ".py",
   "mimetype": "text/x-python",
   "name": "python",
   "nbconvert_exporter": "python",
   "pygments_lexer": "ipython3",
   "version": "3.11.3"
  }
 },
 "nbformat": 4,
 "nbformat_minor": 5
}
