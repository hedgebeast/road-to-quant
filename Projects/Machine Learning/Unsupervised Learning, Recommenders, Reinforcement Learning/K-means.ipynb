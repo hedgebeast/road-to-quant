{
 "cells": [
  {
   "cell_type": "code",
   "execution_count": 2,
   "id": "4a657c67",
   "metadata": {},
   "outputs": [],
   "source": [
    "import numpy as np\n",
    "import matplotlib.pyplot as plt\n",
    "\n",
    "\n",
    "%matplotlib inline"
   ]
  },
  {
   "cell_type": "code",
   "execution_count": null,
   "id": "e2267ee1",
   "metadata": {},
   "outputs": [],
   "source": [
    "def find_closest_centroids(X, centroids):\n",
    "\n",
    "    # Set K\n",
    "    K = centroids.shape[0]\n",
    "\n",
    "    # You need to return the following variables correctly\n",
    "    idx = np.zeros(X.shape[0], dtype=int)\n",
    "    \n",
    "    for i in range(len(X)):\n",
    "        dist = np.zeros(K)\n",
    "        \n",
    "        for j in range(K):        \n",
    "            dist[j] = np.sqrt((X[i][0] - centroids[j][0])**2 + (X[i][1] - centroids[j][1])**2)\n",
    "            \n",
    "        idx[i] = np.argmin(dist)\n",
    "    \n",
    "    return idx"
   ]
  },
  {
   "cell_type": "code",
   "execution_count": null,
   "id": "c078f9c4",
   "metadata": {},
   "outputs": [],
   "source": [
    "def compute_centroids(X, idx, K):\n",
    "    \n",
    "    # Useful variables\n",
    "    m, n = X.shape\n",
    "    \n",
    "    # You need to return the following variables correctly\n",
    "    centroids = np.zeros((K, n))\n",
    "    \n",
    "    for i in range(K):\n",
    "        cluster_X = X[idx == i]\n",
    "#         print(cluster_X)\n",
    "        \n",
    "        centroids[i] = np.sum(cluster_X, axis=0)/len(cluster_X)\n",
    "    \n",
    "    return centroids"
   ]
  },
  {
   "cell_type": "code",
   "execution_count": 3,
   "id": "d9d4f9a9",
   "metadata": {},
   "outputs": [],
   "source": [
    "def kMeans_init_centroids(X, K):\n",
    "    \n",
    "    # Randomly reorder the indices of examples\n",
    "    randidx = np.random.permutation(X.shape[0])\n",
    "    \n",
    "    # Take the first K examples as centroids\n",
    "    centroids = X[randidx[:K]]\n",
    "    \n",
    "    return centroids"
   ]
  },
  {
   "cell_type": "code",
   "execution_count": null,
   "id": "d7d0f444",
   "metadata": {},
   "outputs": [],
   "source": [
    "def plot_data_points(X, idx):\n",
    "    # Define colormap to match Figure 1 in the notebook\n",
    "    cmap = ListedColormap([\"red\", \"green\", \"blue\"])\n",
    "    c = cmap(idx)\n",
    "    \n",
    "    # plots data points in X, coloring them so that those with the same\n",
    "    # index assignments in idx have the same color\n",
    "    plt.scatter(X[:, 0], X[:, 1], facecolors='none', edgecolors=c, linewidth=0.1, alpha=0.7)\n",
    "\n",
    "def plot_progress_kMeans(X, centroids, previous_centroids, idx, K, i):\n",
    "    # Plot the examples\n",
    "    plot_data_points(X, idx)\n",
    "    \n",
    "    # Plot the centroids as black 'x's\n",
    "    plt.scatter(centroids[:, 0], centroids[:, 1], marker='x', c='k', linewidths=3)\n",
    "    \n",
    "    # Plot history of the centroids with lines\n",
    "    for j in range(centroids.shape[0]):\n",
    "        draw_line(centroids[j, :], previous_centroids[j, :])\n",
    "    \n",
    "    plt.title(\"Iteration number %d\" %i)"
   ]
  },
  {
   "cell_type": "code",
   "execution_count": null,
   "id": "803f93e5",
   "metadata": {},
   "outputs": [],
   "source": [
    "# Set number of centroids and max number of iterations\n",
    "K = 3\n",
    "max_iters = 10\n",
    "\n",
    "# Set initial centroids by picking random examples from the dataset\n",
    "initial_centroids = kMeans_init_centroids(X, K)\n",
    "\n",
    "# Run K-Means\n",
    "centroids, idx = run_kMeans(X, initial_centroids, max_iters, plot_progress=True)"
   ]
  },
  {
   "cell_type": "markdown",
   "id": "4503c7e5",
   "metadata": {},
   "source": [
    "  "
   ]
  }
 ],
 "metadata": {
  "kernelspec": {
   "display_name": "Python 3 (ipykernel)",
   "language": "python",
   "name": "python3"
  },
  "language_info": {
   "codemirror_mode": {
    "name": "ipython",
    "version": 3
   },
   "file_extension": ".py",
   "mimetype": "text/x-python",
   "name": "python",
   "nbconvert_exporter": "python",
   "pygments_lexer": "ipython3",
   "version": "3.11.3"
  }
 },
 "nbformat": 4,
 "nbformat_minor": 5
}
