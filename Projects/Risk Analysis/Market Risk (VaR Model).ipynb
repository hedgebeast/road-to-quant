{
 "cells": [
  {
   "cell_type": "code",
   "execution_count": 2,
   "id": "645ae893",
   "metadata": {},
   "outputs": [],
   "source": [
    "from scipy.stats import norm\n",
    "import numpy as np"
   ]
  },
  {
   "cell_type": "markdown",
   "id": "a9be3162",
   "metadata": {},
   "source": [
    "#### N-day VaR = 1-day VaR x $\\sqrt{N}$"
   ]
  },
  {
   "cell_type": "markdown",
   "id": "e3a5e9e6",
   "metadata": {},
   "source": [
    "Value of the market variable tomorrow under $i^{th}$ scenario = $V_n \\frac{v_i}{v_{i-1}}$, today is Day n"
   ]
  },
  {
   "cell_type": "markdown",
   "id": "518f6a54",
   "metadata": {},
   "source": [
    "### Linear Model 🤓"
   ]
  },
  {
   "cell_type": "markdown",
   "id": "e5e8ff94",
   "metadata": {},
   "source": [
    "#### Single-Asset Case:\n",
    "\n",
    "T-day VaR = $P_0 |\\mu_{daily} T + \\sigma_{daily} \\sqrt{T} Z|$"
   ]
  },
  {
   "cell_type": "code",
   "execution_count": 72,
   "id": "12072c22",
   "metadata": {},
   "outputs": [
    {
     "data": {
      "text/plain": [
       "1.6448536269514722"
      ]
     },
     "execution_count": 72,
     "metadata": {},
     "output_type": "execute_result"
    }
   ],
   "source": [
    "norm.ppf(0.95)"
   ]
  },
  {
   "cell_type": "code",
   "execution_count": 15,
   "id": "9dbe2958",
   "metadata": {},
   "outputs": [
    {
     "name": "stdout",
     "output_type": "stream",
     "text": [
      "10-day VaR(99%) = $ 1471311.58 (assuming 𝜇=0)\n"
     ]
    }
   ],
   "source": [
    "# PPF is the inverse of the cumulative distribution function (CDF): \n",
    "# PPF tells you what value a random variable will be less than or equal to with a certain probability \n",
    "\n",
    "# Example only\n",
    "\n",
    "P0, T, X, sigma = 10000000, 10, 0.99, 0.02\n",
    "\n",
    "print(\"10-day VaR(99%) = $\", round(P0*sigma*np.sqrt(T)*norm.ppf(X),2), \"(assuming 𝜇=0)\")"
   ]
  },
  {
   "cell_type": "markdown",
   "id": "e47d3daf",
   "metadata": {},
   "source": [
    "#### Two-Asset Case:\n",
    "\n",
    "$\\sigma_{X+Y} = \\sqrt{\\sigma_X^2 + \\sigma_Y^2 + 2\\rho\\sigma_X\\sigma_Y}$\n",
    "\n",
    "T-day VaR = $P_0 |\\mu_{X+Y} T + \\sigma_{X+Y} \\sqrt{T} Z|$"
   ]
  },
  {
   "cell_type": "markdown",
   "id": "2132886c",
   "metadata": {},
   "source": [
    "### $\\Delta P = 300 \\Delta x_{snp} + 200 \\Delta x_{bond}$"
   ]
  },
  {
   "cell_type": "markdown",
   "id": "2223f547",
   "metadata": {},
   "source": [
    "### (General) Multi-Asset Case:\n",
    "\n",
    "#### $\\Delta P = \\sum_{i=1}^n \\alpha_i \\Delta x_i, \\hspace{0.3cm}$ where $\\alpha_i$ is the amount invested in asset i and $\\Delta x_i$ is the return on asset i in one day.\n",
    "\n",
    "($\\Delta P $ is the dollar change in the value of the whole portfolio in one day)\n",
    "\n",
    "$\\sigma_{P}^2 = \\sum_{i=1}^n (\\alpha_i \\sigma_i)^2 + 2 \\sum_{i=1}^n \\sum_{j<i} \\rho_{ij} (\\alpha_i \\sigma_i)(\\alpha_j \\sigma_j)$\n",
    "\n",
    "#### Or \n",
    "$\\sigma_{P}^2 = \\sum_{i=1}^n \\sum_{j=1}^n \\rho_{ij} (w_i \\sigma_i)(w_j \\sigma_j) = \\sum_{i=1}^n \\sum_{j=1}^n \\rho_{ij} w_i w_j \\sigma_i \\sigma_j \\hspace{0.3cm} $, where $w_i = \\frac{\\alpha_i}{P}$ \n",
    "\n",
    "### $\\implies \\sigma_{P}^2 = \\sum_{i=1}^n \\sum_{j=1}^n cov_{ij} w_i w_j$ (Familiar?? >>  Previous articles: $\\sigma_p^2 = w^T\\Sigma w$)\n",
    "\n",
    "T-day VaR = $P_0 |\\mu_{P} T + \\sigma_{P} \\sqrt{T} Z|$"
   ]
  },
  {
   "cell_type": "markdown",
   "id": "d84c6e34",
   "metadata": {},
   "source": [
    "## Daily PNL: $\\Delta P = P_T - P_0 = \\sum_{i=1}^n \\alpha_i \\Delta x_i$"
   ]
  },
  {
   "cell_type": "markdown",
   "id": "1fa5167c",
   "metadata": {},
   "source": [
    "### Recall Duration Model"
   ]
  },
  {
   "cell_type": "markdown",
   "id": "f1a480d8",
   "metadata": {},
   "source": [
    "### $\\Delta P = -DP\\Delta y$  \n",
    "\n",
    "where  \n",
    "- D is the modified duration of the portfolio  \n",
    "- $\\Delta y$ is the parallel shift in 1 day"
   ]
  },
  {
   "cell_type": "markdown",
   "id": "bd010534",
   "metadata": {},
   "source": [
    " "
   ]
  },
  {
   "cell_type": "markdown",
   "id": "3e140ff8",
   "metadata": {},
   "source": [
    "### Recall in Option Greeks that \n",
    "\n",
    "Delta, $\\delta = \\frac{\\Delta P}{\\Delta S} \\hspace{0.3cm}$ and $\\hspace{0.3cm}$ Gamma, $\\gamma = \\frac{\\Delta P}{\\Delta \\delta}$ or $\\frac{\\partial^2 P}{\\partial S \\partial S}  $\n",
    "\n",
    "$\\implies \\Delta P = \\delta \\Delta S$\n",
    "\n",
    "Define $\\Delta x = \\frac{\\Delta S}{S}$, where $\\Delta x$ is the percentage change in the stock price in 1 day.  \n",
    "\n",
    "\n",
    "$\\implies \\Delta P = \\sum_{i=1}^n \\alpha_i \\Delta x_i$, where $\\alpha_i = S_i \\delta_i$ (becomes a linear model)"
   ]
  },
  {
   "cell_type": "markdown",
   "id": "6a5e9396",
   "metadata": {},
   "source": [
    "### Also recall previously that\n",
    "\n",
    "$\\Delta \\Pi = \\frac{\\partial \\Pi}{\\partial S} \\Delta S + \\frac{\\partial \\Pi}{\\partial t} \\Delta t + \\frac {1}{2} \\frac{\\partial^2 \\Pi}{\\partial S^2} \\Delta S^2 + ...$"
   ]
  },
  {
   "cell_type": "markdown",
   "id": "4f91b132",
   "metadata": {},
   "source": [
    "Hence, for a change in 1 day, we can ignore the $\\Theta$ component and approximate the change in portfolio value to \n",
    "\n",
    "\n",
    "### $\\Delta P = \\delta \\Delta S + \\frac{1}{2} \\gamma (\\Delta S)^2 \\hspace{0.3cm} \\equiv \\hspace{0.3cm} \\sum_{i=1}^n S_i \\delta_i \\Delta x_i + \\sum_{i=1}^n \\frac{1}{2} S_i^2 \\gamma_i (\\Delta x_i)^2$  \n",
    "\n",
    "When individual instruments in the portfolio may be dependent on more than one market variable, the equation takes the more general form:  \n",
    "\n",
    "$\\Delta P = \\sum_{i=1}^n S_i \\delta_i \\Delta x_i + \\sum_{i=1}^n \\sum_{j=1}^n \\frac{1}{2} S_i S_j \\gamma_{ij}\\Delta x_i \\Delta x_j \\hspace{0.5cm}$, where $\\gamma_{ij} = \\frac{\\partial^2 P}{\\partial S_i \\partial S_j}$ is the cross gamma"
   ]
  }
 ],
 "metadata": {
  "kernelspec": {
   "display_name": "Python 3 (ipykernel)",
   "language": "python",
   "name": "python3"
  },
  "language_info": {
   "codemirror_mode": {
    "name": "ipython",
    "version": 3
   },
   "file_extension": ".py",
   "mimetype": "text/x-python",
   "name": "python",
   "nbconvert_exporter": "python",
   "pygments_lexer": "ipython3",
   "version": "3.11.3"
  }
 },
 "nbformat": 4,
 "nbformat_minor": 5
}
