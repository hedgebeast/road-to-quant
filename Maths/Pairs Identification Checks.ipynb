{
 "cells": [
  {
   "cell_type": "code",
   "execution_count": 4,
   "metadata": {
    "cell_id": "e7089ab69b5f421c8e0213cb04694438",
    "deepnote_cell_type": "code",
    "deepnote_to_be_reexecuted": false,
    "execution_millis": 694,
    "execution_start": 1686470072996,
    "source_hash": "44207e83"
   },
   "outputs": [],
   "source": [
    "import numpy as np\n",
    "import pandas as pd\n",
    "import matplotlib.pyplot as plt\n",
    "\n",
    "from sklearn.preprocessing import StandardScaler\n",
    "\n",
    "#All Clustering Algo\n",
    "from sklearn.cluster import KMeans, AgglomerativeClustering,AffinityPropagation, DBSCAN\n",
    "from scipy.cluster.hierarchy import fcluster\n",
    "from scipy.cluster.hierarchy import dendrogram, linkage, cophenet\n",
    "\n",
    "from scipy.spatial.distance import pdist\n",
    "from sklearn.metrics import adjusted_mutual_info_score\n",
    "from sklearn import cluster, covariance, manifold\n",
    "from itertools import cycle\n",
    "from itertools import combinations\n",
    "\n",
    "import statsmodels.api as sm\n",
    "from statsmodels.tsa.stattools import coint\n",
    "from scipy.stats.mstats import winsorize\n",
    "import warnings \n",
    "\n",
    "warnings.filterwarnings('ignore')"
   ]
  },
  {
   "cell_type": "code",
   "execution_count": 5,
   "metadata": {
    "cell_id": "4257c8e1ebe4453aabee8e010680c375",
    "deepnote_cell_type": "code",
    "deepnote_to_be_reexecuted": false,
    "execution_millis": 3,
    "execution_start": 1686470079854,
    "source_hash": "d53d97bc"
   },
   "outputs": [],
   "source": [
    "def clean_data(stocks_df, sector_df, universesize=1003):\n",
    "    # sector = pd.read_csv(\"russell1000_sector.csv\", error_bad_lines = False)\n",
    "    sector = sector_df[[\"Ticker\", \"GICS Sector\"]] \n",
    "    \n",
    "    vars = ['open', 'high', 'low', 'close', 'volume']\n",
    "    rawdata = {} \n",
    "    merged_df = pd.merge(stocks_df, sector[[\"Ticker\", \"GICS Sector\"]], left_on='ticker', right_on='Ticker', how='left')\n",
    "\n",
    "    #BASE UNIVERSE: STOCKS IN RUSSELL 1000\n",
    "    for tvar in vars:\n",
    "        rawdata[tvar] = merged_df.loc[:, ['tickerid', 'ticker', 'date', tvar]]\n",
    "        rawdata[tvar] = rawdata[tvar].pivot(index = 'date', columns = 'ticker', values = tvar)\n",
    "        rawdata[tvar] = rawdata[tvar].iloc[:, :universesize] #universe cap\n",
    "    \n",
    "    rawdata_vol = rawdata['volume'].copy()\n",
    "        \n",
    "    ######### Check for Trading Volume #########\n",
    "    # Company level average Volume \n",
    "    length = 240 #recent 2 years\n",
    "    df_vol = rawdata_vol.tail(length)\n",
    "    \n",
    "    avg_vol = df_vol.mean(axis=0)\n",
    "    individual_avg_vol = avg_vol.reset_index()\n",
    "    individual_avg_vol.rename(columns={0: 'Average Volume'}, inplace=True)\n",
    "    \n",
    "    # Sector level average Volume\n",
    "    d = sector_df.set_index('Ticker').to_dict()\n",
    "    \n",
    "    rawdata_vol.columns = rawdata_vol.columns.to_series().map(d['GICS Sector'])\n",
    "    uniquesector = list(set(rawdata_vol.columns))\n",
    "        \n",
    "    sector_avg_vol = {}     \n",
    "    for tsector in uniquesector:     \n",
    "        if (str(tsector)=='nan'):\n",
    "            continue;\n",
    "#         print(tsector)\n",
    "        tmean = rawdata_vol.loc[:, tsector].mean(axis=1)\n",
    "        tmean[~np.isfinite(tmean)] = 0\n",
    "        sector_mean = tmean.mean()\n",
    "#         print(sector_mean)\n",
    "        sector_avg_vol[tsector] = sector_mean  \n",
    "#     print(sector_avg_vol)\n",
    "    \n",
    "        \n",
    "    # Only keep companies in universe if their average volume > sector average volume \n",
    "    final_df = pd.merge(merged_df, individual_avg_vol, on='ticker', how='left')\n",
    "    \n",
    "    sector_avg_df = pd.DataFrame(sector_avg_vol, index=[0])\n",
    "    sector_avg_df = sector_avg_df.transpose()\n",
    "    sector_avg_df = sector_avg_df.unstack()\n",
    "    sector_avg_df = (sector_avg_df.reset_index())[['level_1', 0]]\n",
    "    sector_avg_df.columns = [\"Sector\", \"Sector Average Volume\"]\n",
    "    \n",
    "    final_df = pd.merge(final_df, sector_avg_df, left_on = 'GICS Sector', right_on='Sector', how='left')\n",
    "    final_df = final_df[final_df[\"Average Volume\"] >= final_df[\"Sector Average Volume\"]] #not correct yet\n",
    "    \n",
    "    # Next step: Run this filtering the day before rebalancing and return a list of filtered tickers\n",
    "    \n",
    "    \n",
    "    return final_df"
   ]
  },
  {
   "cell_type": "markdown",
   "metadata": {
    "cell_id": "34b328e76091462eb0cfc9cc7ecc3331",
    "deepnote_cell_type": "text-cell-p",
    "formattedRanges": [
     {
      "fromCodePoint": 0,
      "marks": {
       "bold": true
      },
      "toCodePoint": 20,
      "type": "marks"
     }
    ]
   },
   "source": [
    "Affinity Propagation is a clustering algorithm that does not require specifying the number of clusters in advance. It determines the number of clusters based on the data and the input parameters."
   ]
  },
  {
   "cell_type": "markdown",
   "metadata": {
    "cell_id": "981fa30305de4b1797a672dd5473bd22",
    "deepnote_cell_type": "text-cell-p",
    "formattedRanges": [],
    "number": 5,
    "style": "lower-alpha"
   },
   "source": [
    "eg. AffinityPropagation(damping=0.5, max_iter=200)"
   ]
  },
  {
   "cell_type": "markdown",
   "metadata": {
    "cell_id": "edee9cd7d40d4ec3b03f01732943552a",
    "deepnote_cell_type": "text-cell-p",
    "formattedRanges": []
   },
   "source": [
    "Damping Factor: The damping factor controls the level of damping in the affinity updates. It takes a value between 0 and 1. A higher damping factor (closer to 1) dampens the responsibility and availability updates, resulting in fewer cluster assignments and more compact clusters. On the other hand, a lower damping factor (closer to 0) allows more influence from the available exemplars, potentially leading to more clusters and less compactness."
   ]
  },
  {
   "cell_type": "markdown",
   "metadata": {
    "cell_id": "a021e739bf7c4d39a0475ff99ed030dc",
    "deepnote_cell_type": "text-cell-p",
    "formattedRanges": []
   },
   "source": [
    "Maximum Number of Iterations: The maximum number of iterations determines the maximum number of iterations the algorithm performs before stopping. If the algorithm has not converged by reaching the maximum number of iterations, it stops and returns the current results. Setting a higher value for the maximum number of iterations allows the algorithm to run for more iterations, potentially refining the clusters further. However, setting a very high value may result in longer execution time, especially for large datasets."
   ]
  },
  {
   "cell_type": "code",
   "execution_count": 6,
   "metadata": {
    "cell_id": "cb25abd9415a45178620e6830a578adf",
    "deepnote_cell_type": "code",
    "deepnote_to_be_reexecuted": false,
    "execution_millis": 3,
    "execution_start": 1686470084285,
    "source_hash": "dada1453"
   },
   "outputs": [],
   "source": [
    "def pairs_identification(df, startdate, enddate):\n",
    "    df = df.loc[startdate : enddate]\n",
    "    # Treat missing values\n",
    "    df = df.fillna(method = \"ffill\")\n",
    "    missing_fractions = df.isnull().mean().sort_values(ascending = False)\n",
    "    drop_list = sorted(list(missing_fractions[missing_fractions > 0].index))\n",
    "    df.drop(labels= drop_list, axis=1, inplace = True)\n",
    "    # Generate returns and vol df\n",
    "    returns = df.pct_change().mean() * 252\n",
    "    returns = pd.DataFrame(returns)\n",
    "    returns.columns = [\"Returns\"]\n",
    "    returns[\"Volatility\"] = df.pct_change().std() * np.sqrt(252)\n",
    "    data = returns\n",
    "    # Scale df\n",
    "    scaler = StandardScaler().fit(data)\n",
    "    rescaledDataset = pd.DataFrame(scaler.fit_transform(data),columns = data.columns, index = data.index)\n",
    "    X = rescaledDataset\n",
    "    # Winsorize the df\n",
    "    X['Returns'] = winsorize(X['Returns'], limits=(0.1, 0.1))\n",
    "    X['Volatility'] = winsorize(X['Volatility'], limits=(0.1, 0.1))\n",
    "    \n",
    "    # Clustering using Affinity Propogation\n",
    "    ## It is recommended to apply the algorithm to a subset of your data or use dimensionality reduction techniques if needed.\n",
    "    # ap = AffinityPropagation() \n",
    "\n",
    "    ##Can try tuning here (Higher damping factors may lead to fewer clusters but more compact clusters, \n",
    "    ##while lower damping factors may result in more clusters but less compactness.)\n",
    "    ap = AffinityPropagation(damping=0.9, max_iter=200)  \n",
    "    ap.fit(X)\n",
    "\n",
    "    ''' Access the objective function values during iterations (additional)\n",
    "    obj_func = clustering.history_['objective']\n",
    "\n",
    "    # Plot the objective function values\n",
    "    plt.plot(np.arange(len(obj_func)), obj_func)\n",
    "    plt.xlabel('Iteration')\n",
    "    plt.ylabel('Objective Function Value')\n",
    "    plt.title('Affinity Propagation - Convergence')\n",
    "    plt.show()\n",
    "    '''\n",
    "\n",
    "    clust_labels2 = ap.predict(X)\n",
    "\n",
    "    # clustered stock with its cluster label\n",
    "    cluster_centers_indices = ap.cluster_centers_indices_  #coordinates of the identified cluster centers\n",
    "    labels = ap.labels_  #assigned cluster labels for each sample\n",
    "    clustered_series_ap = pd.Series(index=X.index, data=ap.labels_.flatten())\n",
    "    # Identify closest pair in each cluster\n",
    "    final_pairs = []\n",
    "    \n",
    "    for i in range(0,clustered_series_ap.max() + 1):\n",
    "        clustered_stocks = clustered_series_ap[clustered_series_ap == i]\n",
    "        stock_pairs = list(combinations(clustered_stocks.index, 2))\n",
    "    \n",
    "        # Comb through and select only cointegrated pairs\n",
    "        cointegrated_pairs = []\n",
    "        threshold = 0.1  #I think a bit lenient, can try 0.05 or 0.025\n",
    "        for pair in stock_pairs:\n",
    "            df2 = df[list(pair)]\n",
    "            score, pvalue, _ = coint(df2.values[:,0], df2.values[:,1])\n",
    "            if pvalue < threshold:\n",
    "                cointegrated_pairs.append(pair)\n",
    "\n",
    "        # Identify pair in each cluster with shortest Gatev distance measure \n",
    "        spread_dict = {}\n",
    "        for pair in cointegrated_pairs:\n",
    "            S1 = list(pair)[0]\n",
    "            S2 = list(pair)[1]\n",
    "            df2 = df[list(pair)]\n",
    "            S1_final = df2[S1][-1]\n",
    "            S2_final = df2[S2][-1]\n",
    "            df2[S1] = df2[S1] / S1_final\n",
    "            df2[S2] = df2[S2] / S2_final\n",
    "            df2[\"spread\"] = (df2[S1] / df2[S2]) -1\n",
    "            mean_spread = df2[\"spread\"].mean()\n",
    "            hist_dist = ((df2[\"spread\"] - mean_spread) ** 2).sum()\n",
    "            spread_dict[pair] = hist_dist\n",
    "        final_pairs.append(min(spread_dict, key = spread_dict.get))\n",
    "    \n",
    "    return final_pairs"
   ]
  },
  {
   "cell_type": "code",
   "execution_count": 8,
   "metadata": {
    "cell_id": "0fd17c7bfdc84d62a49d074d7412ab3f",
    "deepnote_cell_type": "code",
    "deepnote_to_be_reexecuted": false,
    "execution_millis": 80,
    "execution_start": 1686470397310,
    "source_hash": "85cbb8ad"
   },
   "outputs": [
    {
     "data": {
      "application/vnd.deepnote.dataframe.v3+json": {
       "column_count": 12,
       "columns": [
        {
         "dtype": "datetime64[ns]",
         "name": "date",
         "stats": {
          "histogram": [
           {
            "bin_end": 946892160000000000,
            "bin_start": 946857600000000000,
            "count": 1
           },
           {
            "bin_end": 946926720000000000,
            "bin_start": 946892160000000000,
            "count": 0
           },
           {
            "bin_end": 946961280000000000,
            "bin_start": 946926720000000000,
            "count": 1
           },
           {
            "bin_end": 946995840000000000,
            "bin_start": 946961280000000000,
            "count": 0
           },
           {
            "bin_end": 947030400000000000,
            "bin_start": 946995840000000000,
            "count": 0
           },
           {
            "bin_end": 947064960000000000,
            "bin_start": 947030400000000000,
            "count": 1
           },
           {
            "bin_end": 947099520000000000,
            "bin_start": 947064960000000000,
            "count": 0
           },
           {
            "bin_end": 947134080000000000,
            "bin_start": 947099520000000000,
            "count": 1
           },
           {
            "bin_end": 947168640000000000,
            "bin_start": 947134080000000000,
            "count": 0
           },
           {
            "bin_end": 947203200000000000,
            "bin_start": 947168640000000000,
            "count": 1
           }
          ],
          "max": "2000-01-07 00:00:00",
          "min": "2000-01-03 00:00:00",
          "nan_count": 0,
          "unique_count": 5
         }
        },
        {
         "dtype": "int64",
         "name": "gvkey",
         "stats": {
          "histogram": [
           {
            "bin_end": 1044.6,
            "bin_start": 1044.5,
            "count": 0
           },
           {
            "bin_end": 1044.7,
            "bin_start": 1044.6,
            "count": 0
           },
           {
            "bin_end": 1044.8,
            "bin_start": 1044.7,
            "count": 0
           },
           {
            "bin_end": 1044.9,
            "bin_start": 1044.8,
            "count": 0
           },
           {
            "bin_end": 1045,
            "bin_start": 1044.9,
            "count": 0
           },
           {
            "bin_end": 1045.1,
            "bin_start": 1045,
            "count": 5
           },
           {
            "bin_end": 1045.2,
            "bin_start": 1045.1,
            "count": 0
           },
           {
            "bin_end": 1045.3,
            "bin_start": 1045.2,
            "count": 0
           },
           {
            "bin_end": 1045.4,
            "bin_start": 1045.3,
            "count": 0
           },
           {
            "bin_end": 1045.5,
            "bin_start": 1045.4,
            "count": 0
           }
          ],
          "max": "1045",
          "min": "1045",
          "nan_count": 0,
          "unique_count": 1
         }
        },
        {
         "dtype": "object",
         "name": "iid",
         "stats": {
          "categories": [
           {
            "count": 5,
            "name": "1"
           }
          ],
          "nan_count": 0,
          "unique_count": 1
         }
        },
        {
         "dtype": "object",
         "name": "tic",
         "stats": {
          "categories": [
           {
            "count": 5,
            "name": "AAMRQ"
           }
          ],
          "nan_count": 0,
          "unique_count": 1
         }
        },
        {
         "dtype": "object",
         "name": "cusip",
         "stats": {
          "categories": [
           {
            "count": 5,
            "name": "001765106"
           }
          ],
          "nan_count": 0,
          "unique_count": 1
         }
        },
        {
         "dtype": "object",
         "name": "company name",
         "stats": {
          "categories": [
           {
            "count": 5,
            "name": "AMERICAN AIRLINES GROUP INC"
           }
          ],
          "nan_count": 0,
          "unique_count": 1
         }
        },
        {
         "dtype": "float64",
         "name": "volume",
         "stats": {
          "histogram": [
           {
            "bin_end": 613010,
            "bin_start": 566200,
            "count": 1
           },
           {
            "bin_end": 659820,
            "bin_start": 613010,
            "count": 0
           },
           {
            "bin_end": 706630,
            "bin_start": 659820,
            "count": 2
           },
           {
            "bin_end": 753440,
            "bin_start": 706630,
            "count": 0
           },
           {
            "bin_end": 800250,
            "bin_start": 753440,
            "count": 0
           },
           {
            "bin_end": 847060,
            "bin_start": 800250,
            "count": 1
           },
           {
            "bin_end": 893870,
            "bin_start": 847060,
            "count": 0
           },
           {
            "bin_end": 940680,
            "bin_start": 893870,
            "count": 0
           },
           {
            "bin_end": 987490,
            "bin_start": 940680,
            "count": 0
           },
           {
            "bin_end": 1034300,
            "bin_start": 987490,
            "count": 1
           }
          ],
          "max": "1034300.0",
          "min": "566200.0",
          "nan_count": 0,
          "unique_count": 5
         }
        },
        {
         "dtype": "float64",
         "name": "close",
         "stats": {
          "histogram": [
           {
            "bin_end": 62.65,
            "bin_start": 62.125,
            "count": 1
           },
           {
            "bin_end": 63.175,
            "bin_start": 62.65,
            "count": 0
           },
           {
            "bin_end": 63.7,
            "bin_start": 63.175,
            "count": 1
           },
           {
            "bin_end": 64.225,
            "bin_start": 63.7,
            "count": 1
           },
           {
            "bin_end": 64.75,
            "bin_start": 64.225,
            "count": 0
           },
           {
            "bin_end": 65.275,
            "bin_start": 64.75,
            "count": 0
           },
           {
            "bin_end": 65.8,
            "bin_start": 65.275,
            "count": 0
           },
           {
            "bin_end": 66.325,
            "bin_start": 65.8,
            "count": 1
           },
           {
            "bin_end": 66.85,
            "bin_start": 66.325,
            "count": 0
           },
           {
            "bin_end": 67.375,
            "bin_start": 66.85,
            "count": 1
           }
          ],
          "max": "67.375",
          "min": "62.125",
          "nan_count": 0,
          "unique_count": 5
         }
        },
        {
         "dtype": "float64",
         "name": "high",
         "stats": {
          "histogram": [
           {
            "bin_end": 64.56875,
            "bin_start": 64.125,
            "count": 2
           },
           {
            "bin_end": 65.0125,
            "bin_start": 64.56875,
            "count": 0
           },
           {
            "bin_end": 65.45625,
            "bin_start": 65.0125,
            "count": 0
           },
           {
            "bin_end": 65.9,
            "bin_start": 65.45625,
            "count": 1
           },
           {
            "bin_end": 66.34375,
            "bin_start": 65.9,
            "count": 0
           },
           {
            "bin_end": 66.7875,
            "bin_start": 66.34375,
            "count": 0
           },
           {
            "bin_end": 67.23125,
            "bin_start": 66.7875,
            "count": 0
           },
           {
            "bin_end": 67.675,
            "bin_start": 67.23125,
            "count": 0
           },
           {
            "bin_end": 68.11875,
            "bin_start": 67.675,
            "count": 1
           },
           {
            "bin_end": 68.5625,
            "bin_start": 68.11875,
            "count": 1
           }
          ],
          "max": "68.5625",
          "min": "64.125",
          "nan_count": 0,
          "unique_count": 5
         }
        },
        {
         "dtype": "float64",
         "name": "low",
         "stats": {
          "histogram": [
           {
            "bin_end": 62.475,
            "bin_start": 62.0625,
            "count": 2
           },
           {
            "bin_end": 62.8875,
            "bin_start": 62.475,
            "count": 0
           },
           {
            "bin_end": 63.3,
            "bin_start": 62.8875,
            "count": 0
           },
           {
            "bin_end": 63.7125,
            "bin_start": 63.3,
            "count": 1
           },
           {
            "bin_end": 64.125,
            "bin_start": 63.7125,
            "count": 0
           },
           {
            "bin_end": 64.5375,
            "bin_start": 64.125,
            "count": 0
           },
           {
            "bin_end": 64.95,
            "bin_start": 64.5375,
            "count": 0
           },
           {
            "bin_end": 65.3625,
            "bin_start": 64.95,
            "count": 0
           },
           {
            "bin_end": 65.775,
            "bin_start": 65.3625,
            "count": 1
           },
           {
            "bin_end": 66.1875,
            "bin_start": 65.775,
            "count": 1
           }
          ],
          "max": "66.1875",
          "min": "62.0625",
          "nan_count": 0,
          "unique_count": 5
         }
        },
        {
         "dtype": "float64",
         "name": "open",
         "stats": {
          "histogram": [
           {
            "bin_end": 0.1,
            "bin_start": 0,
            "count": 0
           },
           {
            "bin_end": 0.2,
            "bin_start": 0.1,
            "count": 0
           },
           {
            "bin_end": 0.30000000000000004,
            "bin_start": 0.2,
            "count": 0
           },
           {
            "bin_end": 0.4,
            "bin_start": 0.30000000000000004,
            "count": 0
           },
           {
            "bin_end": 0.5,
            "bin_start": 0.4,
            "count": 0
           },
           {
            "bin_end": 0.6000000000000001,
            "bin_start": 0.5,
            "count": 0
           },
           {
            "bin_end": 0.7000000000000001,
            "bin_start": 0.6000000000000001,
            "count": 0
           },
           {
            "bin_end": 0.8,
            "bin_start": 0.7000000000000001,
            "count": 0
           },
           {
            "bin_end": 0.9,
            "bin_start": 0.8,
            "count": 0
           },
           {
            "bin_end": 1,
            "bin_start": 0.9,
            "count": 0
           }
          ],
          "max": null,
          "min": null,
          "nan_count": 5,
          "unique_count": 0
         }
        },
        {
         "dtype": "int64",
         "name": "exchg",
         "stats": {
          "histogram": [
           {
            "bin_end": 18.6,
            "bin_start": 18.5,
            "count": 0
           },
           {
            "bin_end": 18.7,
            "bin_start": 18.6,
            "count": 0
           },
           {
            "bin_end": 18.8,
            "bin_start": 18.7,
            "count": 0
           },
           {
            "bin_end": 18.9,
            "bin_start": 18.8,
            "count": 0
           },
           {
            "bin_end": 19,
            "bin_start": 18.9,
            "count": 0
           },
           {
            "bin_end": 19.1,
            "bin_start": 19,
            "count": 5
           },
           {
            "bin_end": 19.2,
            "bin_start": 19.1,
            "count": 0
           },
           {
            "bin_end": 19.3,
            "bin_start": 19.2,
            "count": 0
           },
           {
            "bin_end": 19.4,
            "bin_start": 19.3,
            "count": 0
           },
           {
            "bin_end": 19.5,
            "bin_start": 19.4,
            "count": 0
           }
          ],
          "max": "19",
          "min": "19",
          "nan_count": 0,
          "unique_count": 1
         }
        },
        {
         "dtype": "int64",
         "name": "_deepnote_index_column"
        }
       ],
       "row_count": 5,
       "rows": [
        {
         "_deepnote_index_column": 0,
         "close": 67.375,
         "company name": "AMERICAN AIRLINES GROUP INC",
         "cusip": "001765106",
         "date": "2000-01-03 00:00:00",
         "exchg": 19,
         "gvkey": 1045,
         "high": 67.8125,
         "iid": "1",
         "low": 66.1875,
         "open": "nan",
         "tic": "AAMRQ",
         "volume": 566200
        },
        {
         "_deepnote_index_column": 1,
         "close": 65.875,
         "company name": "AMERICAN AIRLINES GROUP INC",
         "cusip": "001765106",
         "date": "2000-01-04 00:00:00",
         "exchg": 19,
         "gvkey": 1045,
         "high": 68.5625,
         "iid": "1",
         "low": 65.625,
         "open": "nan",
         "tic": "AAMRQ",
         "volume": 811800
        },
        {
         "_deepnote_index_column": 2,
         "close": 63.8125,
         "company name": "AMERICAN AIRLINES GROUP INC",
         "cusip": "001765106",
         "date": "2000-01-05 00:00:00",
         "exchg": 19,
         "gvkey": 1045,
         "high": 65.5,
         "iid": "1",
         "low": 63.375,
         "open": "nan",
         "tic": "AAMRQ",
         "volume": 665500
        },
        {
         "_deepnote_index_column": 3,
         "close": 62.125,
         "company name": "AMERICAN AIRLINES GROUP INC",
         "cusip": "001765106",
         "date": "2000-01-06 00:00:00",
         "exchg": 19,
         "gvkey": 1045,
         "high": 64.1875,
         "iid": "1",
         "low": 62.0625,
         "open": "nan",
         "tic": "AAMRQ",
         "volume": 1034300
        },
        {
         "_deepnote_index_column": 4,
         "close": 63.6875,
         "company name": "AMERICAN AIRLINES GROUP INC",
         "cusip": "001765106",
         "date": "2000-01-07 00:00:00",
         "exchg": 19,
         "gvkey": 1045,
         "high": 64.125,
         "iid": "1",
         "low": 62.125,
         "open": "nan",
         "tic": "AAMRQ",
         "volume": 662100
        }
       ]
      },
      "text/html": [
       "<div>\n",
       "<style scoped>\n",
       "    .dataframe tbody tr th:only-of-type {\n",
       "        vertical-align: middle;\n",
       "    }\n",
       "\n",
       "    .dataframe tbody tr th {\n",
       "        vertical-align: top;\n",
       "    }\n",
       "\n",
       "    .dataframe thead th {\n",
       "        text-align: right;\n",
       "    }\n",
       "</style>\n",
       "<table border=\"1\" class=\"dataframe\">\n",
       "  <thead>\n",
       "    <tr style=\"text-align: right;\">\n",
       "      <th></th>\n",
       "      <th>date</th>\n",
       "      <th>gvkey</th>\n",
       "      <th>iid</th>\n",
       "      <th>tic</th>\n",
       "      <th>cusip</th>\n",
       "      <th>company name</th>\n",
       "      <th>volume</th>\n",
       "      <th>close</th>\n",
       "      <th>high</th>\n",
       "      <th>low</th>\n",
       "      <th>open</th>\n",
       "      <th>exchg</th>\n",
       "    </tr>\n",
       "  </thead>\n",
       "  <tbody>\n",
       "    <tr>\n",
       "      <th>0</th>\n",
       "      <td>2000-01-03</td>\n",
       "      <td>1045</td>\n",
       "      <td>1</td>\n",
       "      <td>AAMRQ</td>\n",
       "      <td>001765106</td>\n",
       "      <td>AMERICAN AIRLINES GROUP INC</td>\n",
       "      <td>566200.0</td>\n",
       "      <td>67.3750</td>\n",
       "      <td>67.8125</td>\n",
       "      <td>66.1875</td>\n",
       "      <td>NaN</td>\n",
       "      <td>19</td>\n",
       "    </tr>\n",
       "    <tr>\n",
       "      <th>1</th>\n",
       "      <td>2000-01-04</td>\n",
       "      <td>1045</td>\n",
       "      <td>1</td>\n",
       "      <td>AAMRQ</td>\n",
       "      <td>001765106</td>\n",
       "      <td>AMERICAN AIRLINES GROUP INC</td>\n",
       "      <td>811800.0</td>\n",
       "      <td>65.8750</td>\n",
       "      <td>68.5625</td>\n",
       "      <td>65.6250</td>\n",
       "      <td>NaN</td>\n",
       "      <td>19</td>\n",
       "    </tr>\n",
       "    <tr>\n",
       "      <th>2</th>\n",
       "      <td>2000-01-05</td>\n",
       "      <td>1045</td>\n",
       "      <td>1</td>\n",
       "      <td>AAMRQ</td>\n",
       "      <td>001765106</td>\n",
       "      <td>AMERICAN AIRLINES GROUP INC</td>\n",
       "      <td>665500.0</td>\n",
       "      <td>63.8125</td>\n",
       "      <td>65.5000</td>\n",
       "      <td>63.3750</td>\n",
       "      <td>NaN</td>\n",
       "      <td>19</td>\n",
       "    </tr>\n",
       "    <tr>\n",
       "      <th>3</th>\n",
       "      <td>2000-01-06</td>\n",
       "      <td>1045</td>\n",
       "      <td>1</td>\n",
       "      <td>AAMRQ</td>\n",
       "      <td>001765106</td>\n",
       "      <td>AMERICAN AIRLINES GROUP INC</td>\n",
       "      <td>1034300.0</td>\n",
       "      <td>62.1250</td>\n",
       "      <td>64.1875</td>\n",
       "      <td>62.0625</td>\n",
       "      <td>NaN</td>\n",
       "      <td>19</td>\n",
       "    </tr>\n",
       "    <tr>\n",
       "      <th>4</th>\n",
       "      <td>2000-01-07</td>\n",
       "      <td>1045</td>\n",
       "      <td>1</td>\n",
       "      <td>AAMRQ</td>\n",
       "      <td>001765106</td>\n",
       "      <td>AMERICAN AIRLINES GROUP INC</td>\n",
       "      <td>662100.0</td>\n",
       "      <td>63.6875</td>\n",
       "      <td>64.1250</td>\n",
       "      <td>62.1250</td>\n",
       "      <td>NaN</td>\n",
       "      <td>19</td>\n",
       "    </tr>\n",
       "  </tbody>\n",
       "</table>\n",
       "</div>"
      ],
      "text/plain": [
       "        date  gvkey iid    tic      cusip                 company name  \\\n",
       "0 2000-01-03   1045   1  AAMRQ  001765106  AMERICAN AIRLINES GROUP INC   \n",
       "1 2000-01-04   1045   1  AAMRQ  001765106  AMERICAN AIRLINES GROUP INC   \n",
       "2 2000-01-05   1045   1  AAMRQ  001765106  AMERICAN AIRLINES GROUP INC   \n",
       "3 2000-01-06   1045   1  AAMRQ  001765106  AMERICAN AIRLINES GROUP INC   \n",
       "4 2000-01-07   1045   1  AAMRQ  001765106  AMERICAN AIRLINES GROUP INC   \n",
       "\n",
       "      volume    close     high      low  open  exchg  \n",
       "0   566200.0  67.3750  67.8125  66.1875   NaN     19  \n",
       "1   811800.0  65.8750  68.5625  65.6250   NaN     19  \n",
       "2   665500.0  63.8125  65.5000  63.3750   NaN     19  \n",
       "3  1034300.0  62.1250  64.1875  62.0625   NaN     19  \n",
       "4   662100.0  63.6875  64.1250  62.1250   NaN     19  "
      ]
     },
     "execution_count": 8,
     "metadata": {},
     "output_type": "execute_result"
    }
   ],
   "source": [
    "snp500.head()"
   ]
  },
  {
   "cell_type": "code",
   "execution_count": 7,
   "metadata": {
    "cell_id": "8bebbb78c1634675a0be5b8f15d8ebb1",
    "deepnote_cell_type": "code",
    "deepnote_to_be_reexecuted": false,
    "execution_millis": 124067,
    "execution_start": 1686470104434,
    "source_hash": "e80c11e2"
   },
   "outputs": [
    {
     "data": {
      "text/plain": [
       "[('NEBLQ.1', 'RIG'),\n",
       " ('FOSL', 'GEN'),\n",
       " ('MOLX', 'MOLXA'),\n",
       " ('SNV', 'TFC'),\n",
       " ('COST', 'ETFC'),\n",
       " ('TXT', 'TXT.PB'),\n",
       " ('BRL', 'GILD'),\n",
       " ('ITW', 'JCI'),\n",
       " ('CMVT', 'PTC'),\n",
       " ('AVB', 'BXP'),\n",
       " ('JBL', 'MFE'),\n",
       " ('FML', 'MPF.'),\n",
       " ('ACS', 'FJ'),\n",
       " ('CCI', 'HOLX'),\n",
       " ('CAM', 'DOFSQ'),\n",
       " ('PNC.PC', 'PNC.PD'),\n",
       " ('AYE', 'TE'),\n",
       " ('MXIM', 'XLNX'),\n",
       " ('AMSGB', 'EVHC'),\n",
       " ('CMCSK', 'ODFL'),\n",
       " ('NAV.PD', 'NKM.1'),\n",
       " ('EQR', 'EQR.PE'),\n",
       " ('PARA', 'PARAA')]"
      ]
     },
     "execution_count": 7,
     "metadata": {},
     "output_type": "execute_result"
    }
   ],
   "source": [
    "# S&P500 data\n",
    "snp500 = pd.read_csv(\"snp500_daily_prices_volume.csv\")\n",
    "snp500['date'] = pd.to_datetime(snp500['date'], format='%d/%m/%Y')\n",
    "df = snp500.pivot(index = \"date\", columns = \"tic\", values = \"close\")\n",
    "\n",
    "df = pairs_identification(df, '2000-01-01','2000-12-31')\n",
    "df"
   ]
  },
  {
   "cell_type": "code",
   "execution_count": null,
   "metadata": {
    "cell_id": "ddffb2ce553d45f9804141419d127b57",
    "deepnote_cell_type": "code",
    "deepnote_to_be_reexecuted": false,
    "execution_millis": 27922,
    "execution_start": 1686407988868,
    "source_hash": "2f928f8f"
   },
   "outputs": [],
   "source": [
    "#Russell1000 data\n",
    "russell_df = pd.read_csv(\"russell1000pvdata.csv\", error_bad_lines = False)  #use larger cap companies\n",
    "russell_sector_df = pd.read_csv(\"russell1000_sector.csv\", error_bad_lines = False)\n",
    "rawdata = clean_data(russell_df, russell_sector_df).copy(deep=True)\n",
    "\n",
    "rawdata['date'] = pd.to_datetime(rawdata['date'], format='%Y%m%d')\n",
    "rawdata['date'] = rawdata['date'].dt.strftime('%Y-%m-%d')  #To match with alvin's format\n",
    "\n",
    "rawdata = rawdata.pivot(index = 'date', columns = 'ticker', values = 'close')\n",
    "rawdata.dropna(axis=0, thresh=7, inplace=True)"
   ]
  },
  {
   "cell_type": "code",
   "execution_count": null,
   "metadata": {
    "cell_id": "0131ac4d2ccc4bc7ab9c9c942b867002",
    "deepnote_cell_type": "code",
    "deepnote_to_be_reexecuted": false,
    "execution_millis": 3,
    "execution_start": 1686408016794,
    "source_hash": "b9cc337c"
   },
   "outputs": [
    {
     "data": {
      "text/plain": [
       "2517"
      ]
     },
     "execution_count": 7,
     "metadata": {},
     "output_type": "execute_result"
    }
   ],
   "source": [
    "len(rawdata)"
   ]
  },
  {
   "cell_type": "code",
   "execution_count": null,
   "metadata": {
    "cell_id": "b56f610022b9443fa97fe0a35c5170e3",
    "deepnote_cell_type": "code",
    "deepnote_to_be_reexecuted": false,
    "execution_millis": 49285,
    "execution_start": 1686408016827,
    "source_hash": "a54df4df"
   },
   "outputs": [
    {
     "data": {
      "text/plain": [
       "[('NI', 'TJX'),\n",
       " ('C', 'MS'),\n",
       " ('ABT', 'MO'),\n",
       " ('BK', 'SCHW'),\n",
       " ('GPK', 'LYB'),\n",
       " ('AES', 'OXY'),\n",
       " ('MPW', 'VNO'),\n",
       " ('IVZ', 'KEY'),\n",
       " ('AMT', 'NKE'),\n",
       " ('O', 'VTR'),\n",
       " ('HRB', 'WMB'),\n",
       " ('LUMN', 'WM'),\n",
       " ('PEP', 'T')]"
      ]
     },
     "execution_count": 8,
     "metadata": {},
     "output_type": "execute_result"
    }
   ],
   "source": [
    "# full date range ('2010-12-27','2020-12-23')\n",
    "# russell1000_pairs = pairs_identification(rawdata, '2010-12-27','2020-12-23')\n",
    "russell1000_pairs = pairs_identification(rawdata, '2011-01-01','2011-12-31')\n",
    "russell1000_pairs"
   ]
  },
  {
   "cell_type": "code",
   "execution_count": null,
   "metadata": {
    "cell_id": "8b4a048ecf364e92bd3849de046baa4a",
    "deepnote_cell_type": "code",
    "deepnote_to_be_reexecuted": false,
    "execution_millis": 12,
    "execution_start": 1686408066156,
    "source_hash": "eb7661ec"
   },
   "outputs": [],
   "source": [
    "pair_list = []\n",
    "for i, j in russell1000_pairs:  \n",
    "    pair_list.append(i)\n",
    "    pair_list.append(j)\n",
    "\n",
    "russell1000_pairs_df = rawdata[pair_list].loc['2011-01-01':'2011-12-31']"
   ]
  },
  {
   "cell_type": "code",
   "execution_count": null,
   "metadata": {
    "cell_id": "2ed046e3e82c4af99dc20b471d54fabc",
    "deepnote_cell_type": "code",
    "deepnote_to_be_reexecuted": false,
    "execution_millis": 37,
    "execution_start": 1686408066179,
    "source_hash": "271d96a"
   },
   "outputs": [],
   "source": [
    "return_df = russell1000_pairs_df.pct_change()\n",
    "# return_df.head()"
   ]
  },
  {
   "cell_type": "markdown",
   "metadata": {
    "cell_id": "d306de9fde7a46a38bc60e47d2776939",
    "deepnote_cell_type": "text-cell-h1",
    "formattedRanges": []
   },
   "source": [
    "# Consistency Check using Correlation"
   ]
  },
  {
   "cell_type": "markdown",
   "metadata": {
    "cell_id": "01433a4138ec4bb79a13fd4b768c84ee",
    "deepnote_cell_type": "markdown"
   },
   "source": [
    "(1) Shortlist pairs with high $R^{2}$  \n",
    "(2) OLS beta = Hedge Ratio\n",
    "(3) $R^{2}$ of OLS regression with a single independent variable and intercept term $\\equiv \\rho^{2}_{x_{1,t}, x_{2,t}}$\n",
    "(4) The intercept term is the average distance between both legs "
   ]
  },
  {
   "cell_type": "code",
   "execution_count": null,
   "metadata": {
    "cell_id": "3249afe0b8ac418eb04f7571a57f6a07",
    "deepnote_cell_type": "code",
    "deepnote_to_be_reexecuted": false,
    "execution_millis": 18,
    "execution_start": 1686408066217,
    "source_hash": "85abb105"
   },
   "outputs": [],
   "source": [
    "pairs_corr = return_df.corr()\n",
    "# pairs_corr"
   ]
  },
  {
   "cell_type": "code",
   "execution_count": null,
   "metadata": {
    "cell_id": "401227fa28ac42e29fd32e332b85c1a4",
    "deepnote_cell_type": "code",
    "deepnote_to_be_reexecuted": false,
    "execution_millis": 120,
    "execution_start": 1686408247895,
    "source_hash": "7672a011"
   },
   "outputs": [
    {
     "data": {
      "application/vnd.deepnote.dataframe.v3+json": {
       "column_count": 28,
       "columns": [
        {
         "dtype": "float64",
         "name": "NI",
         "stats": {
          "histogram": [
           {
            "bin_end": 7.2542241999999995,
            "bin_start": 7.017682,
            "count": 13
           },
           {
            "bin_end": 7.4907664,
            "bin_start": 7.2542241999999995,
            "count": 47
           },
           {
            "bin_end": 7.7273086,
            "bin_start": 7.4907664,
            "count": 45
           },
           {
            "bin_end": 7.9638507999999995,
            "bin_start": 7.7273086,
            "count": 27
           },
           {
            "bin_end": 8.200393,
            "bin_start": 7.9638507999999995,
            "count": 29
           },
           {
            "bin_end": 8.4369352,
            "bin_start": 8.200393,
            "count": 24
           },
           {
            "bin_end": 8.6734774,
            "bin_start": 8.4369352,
            "count": 25
           },
           {
            "bin_end": 8.9100196,
            "bin_start": 8.6734774,
            "count": 29
           },
           {
            "bin_end": 9.1465618,
            "bin_start": 8.9100196,
            "count": 7
           },
           {
            "bin_end": 9.383104,
            "bin_start": 9.1465618,
            "count": 5
           }
          ],
          "max": "9.383104",
          "min": "7.017682",
          "nan_count": 0,
          "unique_count": 196
         }
        },
        {
         "dtype": "float64",
         "name": "TJX",
         "stats": {
          "histogram": [
           {
            "bin_end": 11.3094999,
            "bin_start": 10.75,
            "count": 2
           },
           {
            "bin_end": 11.868999800000001,
            "bin_start": 11.3094999,
            "count": 13
           },
           {
            "bin_end": 12.4284997,
            "bin_start": 11.868999800000001,
            "count": 36
           },
           {
            "bin_end": 12.9879996,
            "bin_start": 12.4284997,
            "count": 45
           },
           {
            "bin_end": 13.5474995,
            "bin_start": 12.9879996,
            "count": 52
           },
           {
            "bin_end": 14.106999400000001,
            "bin_start": 13.5474995,
            "count": 37
           },
           {
            "bin_end": 14.666499300000002,
            "bin_start": 14.106999400000001,
            "count": 18
           },
           {
            "bin_end": 15.2259992,
            "bin_start": 14.666499300000002,
            "count": 23
           },
           {
            "bin_end": 15.785499100000003,
            "bin_start": 15.2259992,
            "count": 15
           },
           {
            "bin_end": 16.344999,
            "bin_start": 15.785499100000003,
            "count": 10
           }
          ],
          "max": "16.344999",
          "min": "10.75",
          "nan_count": 0,
          "unique_count": 237
         }
        },
        {
         "dtype": "float64",
         "name": "C",
         "stats": {
          "histogram": [
           {
            "bin_end": 25.9290008,
            "bin_start": 23.110001,
            "count": 17
           },
           {
            "bin_end": 28.7480006,
            "bin_start": 25.9290008,
            "count": 48
           },
           {
            "bin_end": 31.567000399999998,
            "bin_start": 28.7480006,
            "count": 32
           },
           {
            "bin_end": 34.3860002,
            "bin_start": 31.567000399999998,
            "count": 6
           },
           {
            "bin_end": 37.205,
            "bin_start": 34.3860002,
            "count": 3
           },
           {
            "bin_end": 40.0239998,
            "bin_start": 37.205,
            "count": 33
           },
           {
            "bin_end": 42.8429996,
            "bin_start": 40.0239998,
            "count": 22
           },
           {
            "bin_end": 45.6619994,
            "bin_start": 42.8429996,
            "count": 41
           },
           {
            "bin_end": 48.4809992,
            "bin_start": 45.6619994,
            "count": 28
           },
           {
            "bin_end": 51.299999,
            "bin_start": 48.4809992,
            "count": 21
           }
          ],
          "max": "51.299999",
          "min": "23.110001",
          "nan_count": 0,
          "unique_count": 200
         }
        },
        {
         "dtype": "float64",
         "name": "MS",
         "stats": {
          "histogram": [
           {
            "bin_end": 14.322000000000001,
            "bin_start": 12.47,
            "count": 17
           },
           {
            "bin_end": 16.174,
            "bin_start": 14.322000000000001,
            "count": 45
           },
           {
            "bin_end": 18.026,
            "bin_start": 16.174,
            "count": 36
           },
           {
            "bin_end": 19.878,
            "bin_start": 18.026,
            "count": 5
           },
           {
            "bin_end": 21.729999999999997,
            "bin_start": 19.878,
            "count": 11
           },
           {
            "bin_end": 23.582,
            "bin_start": 21.729999999999997,
            "count": 35
           },
           {
            "bin_end": 25.433999999999997,
            "bin_start": 23.582,
            "count": 18
           },
           {
            "bin_end": 27.285999999999998,
            "bin_start": 25.433999999999997,
            "count": 26
           },
           {
            "bin_end": 29.137999999999998,
            "bin_start": 27.285999999999998,
            "count": 33
           },
           {
            "bin_end": 30.99,
            "bin_start": 29.137999999999998,
            "count": 25
           }
          ],
          "max": "30.99",
          "min": "12.47",
          "nan_count": 0,
          "unique_count": 230
         }
        },
        {
         "dtype": "float64",
         "name": "ABT",
         "stats": {
          "histogram": [
           {
            "bin_end": 22.2037046,
            "bin_start": 21.667768,
            "count": 13
           },
           {
            "bin_end": 22.739641199999998,
            "bin_start": 22.2037046,
            "count": 15
           },
           {
            "bin_end": 23.2755778,
            "bin_start": 22.739641199999998,
            "count": 30
           },
           {
            "bin_end": 23.8115144,
            "bin_start": 23.2755778,
            "count": 12
           },
           {
            "bin_end": 24.347451,
            "bin_start": 23.8115144,
            "count": 23
           },
           {
            "bin_end": 24.8833876,
            "bin_start": 24.347451,
            "count": 44
           },
           {
            "bin_end": 25.4193242,
            "bin_start": 24.8833876,
            "count": 51
           },
           {
            "bin_end": 25.955260799999998,
            "bin_start": 25.4193242,
            "count": 35
           },
           {
            "bin_end": 26.4911974,
            "bin_start": 25.955260799999998,
            "count": 21
           },
           {
            "bin_end": 27.027134,
            "bin_start": 26.4911974,
            "count": 7
           }
          ],
          "max": "27.027134",
          "min": "21.667768",
          "nan_count": 0,
          "unique_count": 209
         }
        },
        {
         "dtype": "float64",
         "name": "MO",
         "stats": {
          "histogram": [
           {
            "bin_end": 24.1899999,
            "bin_start": 23.51,
            "count": 19
           },
           {
            "bin_end": 24.869999800000002,
            "bin_start": 24.1899999,
            "count": 23
           },
           {
            "bin_end": 25.5499997,
            "bin_start": 24.869999800000002,
            "count": 15
           },
           {
            "bin_end": 26.229999600000003,
            "bin_start": 25.5499997,
            "count": 36
           },
           {
            "bin_end": 26.9099995,
            "bin_start": 26.229999600000003,
            "count": 55
           },
           {
            "bin_end": 27.589999400000004,
            "bin_start": 26.9099995,
            "count": 55
           },
           {
            "bin_end": 28.269999300000002,
            "bin_start": 27.589999400000004,
            "count": 27
           },
           {
            "bin_end": 28.9499992,
            "bin_start": 28.269999300000002,
            "count": 9
           },
           {
            "bin_end": 29.629999100000003,
            "bin_start": 28.9499992,
            "count": 4
           },
           {
            "bin_end": 30.309999,
            "bin_start": 29.629999100000003,
            "count": 8
           }
          ],
          "max": "30.309999",
          "min": "23.51",
          "nan_count": 0,
          "unique_count": 192
         }
        },
        {
         "dtype": "float64",
         "name": "BK",
         "stats": {
          "histogram": [
           {
            "bin_end": 19.1670008,
            "bin_start": 17.700001,
            "count": 34
           },
           {
            "bin_end": 20.6340006,
            "bin_start": 19.1670008,
            "count": 43
           },
           {
            "bin_end": 22.1010004,
            "bin_start": 20.6340006,
            "count": 23
           },
           {
            "bin_end": 23.5680002,
            "bin_start": 22.1010004,
            "count": 3
           },
           {
            "bin_end": 25.035,
            "bin_start": 23.5680002,
            "count": 9
           },
           {
            "bin_end": 26.5019998,
            "bin_start": 25.035,
            "count": 29
           },
           {
            "bin_end": 27.9689996,
            "bin_start": 26.5019998,
            "count": 13
           },
           {
            "bin_end": 29.4359994,
            "bin_start": 27.9689996,
            "count": 38
           },
           {
            "bin_end": 30.9029992,
            "bin_start": 29.4359994,
            "count": 30
           },
           {
            "bin_end": 32.369999,
            "bin_start": 30.9029992,
            "count": 29
           }
          ],
          "max": "32.369999",
          "min": "17.700001",
          "nan_count": 0,
          "unique_count": 219
         }
        },
        {
         "dtype": "float64",
         "name": "SCHW",
         "stats": {
          "histogram": [
           {
            "bin_end": 11.6200001,
            "bin_start": 10.75,
            "count": 38
           },
           {
            "bin_end": 12.4900002,
            "bin_start": 11.6200001,
            "count": 51
           },
           {
            "bin_end": 13.3600003,
            "bin_start": 12.4900002,
            "count": 12
           },
           {
            "bin_end": 14.2300004,
            "bin_start": 13.3600003,
            "count": 3
           },
           {
            "bin_end": 15.1000005,
            "bin_start": 14.2300004,
            "count": 8
           },
           {
            "bin_end": 15.9700006,
            "bin_start": 15.1000005,
            "count": 17
           },
           {
            "bin_end": 16.8400007,
            "bin_start": 15.9700006,
            "count": 18
           },
           {
            "bin_end": 17.7100008,
            "bin_start": 16.8400007,
            "count": 18
           },
           {
            "bin_end": 18.5800009,
            "bin_start": 17.7100008,
            "count": 57
           },
           {
            "bin_end": 19.450001,
            "bin_start": 18.5800009,
            "count": 29
           }
          ],
          "max": "19.450001",
          "min": "10.75",
          "nan_count": 0,
          "unique_count": 211
         }
        },
        {
         "dtype": "float64",
         "name": "GPK",
         "stats": {
          "histogram": [
           {
            "bin_end": 3.422,
            "bin_start": 3.16,
            "count": 1
           },
           {
            "bin_end": 3.684,
            "bin_start": 3.422,
            "count": 11
           },
           {
            "bin_end": 3.946,
            "bin_start": 3.684,
            "count": 21
           },
           {
            "bin_end": 4.208,
            "bin_start": 3.946,
            "count": 36
           },
           {
            "bin_end": 4.470000000000001,
            "bin_start": 4.208,
            "count": 41
           },
           {
            "bin_end": 4.732,
            "bin_start": 4.470000000000001,
            "count": 11
           },
           {
            "bin_end": 4.994,
            "bin_start": 4.732,
            "count": 31
           },
           {
            "bin_end": 5.256,
            "bin_start": 4.994,
            "count": 43
           },
           {
            "bin_end": 5.518000000000001,
            "bin_start": 5.256,
            "count": 49
           },
           {
            "bin_end": 5.78,
            "bin_start": 5.518000000000001,
            "count": 7
           }
          ],
          "max": "5.78",
          "min": "3.16",
          "nan_count": 0,
          "unique_count": 139
         }
        },
        {
         "dtype": "float64",
         "name": "LYB",
         "stats": {
          "histogram": [
           {
            "bin_end": 26.2519999,
            "bin_start": 24.1,
            "count": 4
           },
           {
            "bin_end": 28.4039998,
            "bin_start": 26.2519999,
            "count": 14
           },
           {
            "bin_end": 30.5559997,
            "bin_start": 28.4039998,
            "count": 15
           },
           {
            "bin_end": 32.7079996,
            "bin_start": 30.5559997,
            "count": 28
           },
           {
            "bin_end": 34.8599995,
            "bin_start": 32.7079996,
            "count": 37
           },
           {
            "bin_end": 37.0119994,
            "bin_start": 34.8599995,
            "count": 40
           },
           {
            "bin_end": 39.1639993,
            "bin_start": 37.0119994,
            "count": 46
           },
           {
            "bin_end": 41.3159992,
            "bin_start": 39.1639993,
            "count": 41
           },
           {
            "bin_end": 43.4679991,
            "bin_start": 41.3159992,
            "count": 19
           },
           {
            "bin_end": 45.619999,
            "bin_start": 43.4679991,
            "count": 7
           }
          ],
          "max": "45.619999",
          "min": "24.1",
          "nan_count": 0,
          "unique_count": 234
         }
        },
        {
         "dtype": "float64",
         "name": "AES",
         "stats": {
          "histogram": [
           {
            "bin_end": 9.834,
            "bin_start": 9.44,
            "count": 7
           },
           {
            "bin_end": 10.228,
            "bin_start": 9.834,
            "count": 10
           },
           {
            "bin_end": 10.622,
            "bin_start": 10.228,
            "count": 19
           },
           {
            "bin_end": 11.016,
            "bin_start": 10.622,
            "count": 20
           },
           {
            "bin_end": 11.41,
            "bin_start": 11.016,
            "count": 9
           },
           {
            "bin_end": 11.804,
            "bin_start": 11.41,
            "count": 26
           },
           {
            "bin_end": 12.198,
            "bin_start": 11.804,
            "count": 20
           },
           {
            "bin_end": 12.592,
            "bin_start": 12.198,
            "count": 55
           },
           {
            "bin_end": 12.986,
            "bin_start": 12.592,
            "count": 56
           },
           {
            "bin_end": 13.38,
            "bin_start": 12.986,
            "count": 29
           }
          ],
          "max": "13.38",
          "min": "9.44",
          "nan_count": 0,
          "unique_count": 169
         }
        },
        {
         "dtype": "float64",
         "name": "OXY",
         "stats": {
          "histogram": [
           {
            "bin_end": 70.2220682,
            "bin_start": 65.70385,
            "count": 5
           },
           {
            "bin_end": 74.7402864,
            "bin_start": 70.2220682,
            "count": 6
           },
           {
            "bin_end": 79.25850460000001,
            "bin_start": 74.7402864,
            "count": 20
           },
           {
            "bin_end": 83.7767228,
            "bin_start": 79.25850460000001,
            "count": 27
           },
           {
            "bin_end": 88.294941,
            "bin_start": 83.7767228,
            "count": 12
           },
           {
            "bin_end": 92.8131592,
            "bin_start": 88.294941,
            "count": 33
           },
           {
            "bin_end": 97.33137740000001,
            "bin_start": 92.8131592,
            "count": 77
           },
           {
            "bin_end": 101.8495956,
            "bin_start": 97.33137740000001,
            "count": 55
           },
           {
            "bin_end": 106.3678138,
            "bin_start": 101.8495956,
            "count": 13
           },
           {
            "bin_end": 110.886032,
            "bin_start": 106.3678138,
            "count": 3
           }
          ],
          "max": "110.886032",
          "min": "65.70385",
          "nan_count": 0,
          "unique_count": 238
         }
        },
        {
         "dtype": "float64",
         "name": "MPW",
         "stats": {
          "histogram": [
           {
            "bin_end": 8.798,
            "bin_start": 8.39,
            "count": 1
           },
           {
            "bin_end": 9.206000000000001,
            "bin_start": 8.798,
            "count": 14
           },
           {
            "bin_end": 9.614,
            "bin_start": 9.206000000000001,
            "count": 29
           },
           {
            "bin_end": 10.022,
            "bin_start": 9.614,
            "count": 31
           },
           {
            "bin_end": 10.43,
            "bin_start": 10.022,
            "count": 21
           },
           {
            "bin_end": 10.838000000000001,
            "bin_start": 10.43,
            "count": 19
           },
           {
            "bin_end": 11.246,
            "bin_start": 10.838000000000001,
            "count": 33
           },
           {
            "bin_end": 11.654,
            "bin_start": 11.246,
            "count": 49
           },
           {
            "bin_end": 12.062000000000001,
            "bin_start": 11.654,
            "count": 35
           },
           {
            "bin_end": 12.47,
            "bin_start": 12.062000000000001,
            "count": 19
           }
          ],
          "max": "12.47",
          "min": "8.39",
          "nan_count": 0,
          "unique_count": 180
         }
        },
        {
         "dtype": "float64",
         "name": "VNO",
         "stats": {
          "histogram": [
           {
            "bin_end": 53.285257800000004,
            "bin_start": 51.190662,
            "count": 12
           },
           {
            "bin_end": 55.379853600000004,
            "bin_start": 53.285257800000004,
            "count": 22
           },
           {
            "bin_end": 57.4744494,
            "bin_start": 55.379853600000004,
            "count": 20
           },
           {
            "bin_end": 59.5690452,
            "bin_start": 57.4744494,
            "count": 21
           },
           {
            "bin_end": 61.663641,
            "bin_start": 59.5690452,
            "count": 25
           },
           {
            "bin_end": 63.7582368,
            "bin_start": 61.663641,
            "count": 36
           },
           {
            "bin_end": 65.8528326,
            "bin_start": 63.7582368,
            "count": 40
           },
           {
            "bin_end": 67.94742839999999,
            "bin_start": 65.8528326,
            "count": 20
           },
           {
            "bin_end": 70.0420242,
            "bin_start": 67.94742839999999,
            "count": 37
           },
           {
            "bin_end": 72.13662,
            "bin_start": 70.0420242,
            "count": 18
           }
          ],
          "max": "72.13662",
          "min": "51.190662",
          "nan_count": 0,
          "unique_count": 242
         }
        },
        {
         "dtype": "float64",
         "name": "IVZ",
         "stats": {
          "histogram": [
           {
            "bin_end": 16.107,
            "bin_start": 14.85,
            "count": 7
           },
           {
            "bin_end": 17.364,
            "bin_start": 16.107,
            "count": 22
           },
           {
            "bin_end": 18.621,
            "bin_start": 17.364,
            "count": 25
           },
           {
            "bin_end": 19.878,
            "bin_start": 18.621,
            "count": 25
           },
           {
            "bin_end": 21.134999999999998,
            "bin_start": 19.878,
            "count": 26
           },
           {
            "bin_end": 22.392,
            "bin_start": 21.134999999999998,
            "count": 13
           },
           {
            "bin_end": 23.649,
            "bin_start": 22.392,
            "count": 30
           },
           {
            "bin_end": 24.906,
            "bin_start": 23.649,
            "count": 48
           },
           {
            "bin_end": 26.163,
            "bin_start": 24.906,
            "count": 44
           },
           {
            "bin_end": 27.42,
            "bin_start": 26.163,
            "count": 11
           }
          ],
          "max": "27.42",
          "min": "14.85",
          "nan_count": 0,
          "unique_count": 220
         }
        },
        {
         "dtype": "float64",
         "name": "KEY",
         "stats": {
          "histogram": [
           {
            "bin_end": 6.11,
            "bin_start": 5.71,
            "count": 12
           },
           {
            "bin_end": 6.51,
            "bin_start": 6.11,
            "count": 23
           },
           {
            "bin_end": 6.91,
            "bin_start": 6.51,
            "count": 23
           },
           {
            "bin_end": 7.3100000000000005,
            "bin_start": 6.91,
            "count": 26
           },
           {
            "bin_end": 7.710000000000001,
            "bin_start": 7.3100000000000005,
            "count": 16
           },
           {
            "bin_end": 8.11,
            "bin_start": 7.710000000000001,
            "count": 28
           },
           {
            "bin_end": 8.510000000000002,
            "bin_start": 8.11,
            "count": 37
           },
           {
            "bin_end": 8.91,
            "bin_start": 8.510000000000002,
            "count": 47
           },
           {
            "bin_end": 9.31,
            "bin_start": 8.91,
            "count": 24
           },
           {
            "bin_end": 9.71,
            "bin_start": 9.31,
            "count": 15
           }
          ],
          "max": "9.71",
          "min": "5.71",
          "nan_count": 0,
          "unique_count": 185
         }
        },
        {
         "dtype": "float64",
         "name": "AMT",
         "stats": {
          "histogram": [
           {
            "bin_end": 47.7849983,
            "bin_start": 46.349998,
            "count": 3
           },
           {
            "bin_end": 49.2199986,
            "bin_start": 47.7849983,
            "count": 7
           },
           {
            "bin_end": 50.654998899999995,
            "bin_start": 49.2199986,
            "count": 35
           },
           {
            "bin_end": 52.0899992,
            "bin_start": 50.654998899999995,
            "count": 48
           },
           {
            "bin_end": 53.5249995,
            "bin_start": 52.0899992,
            "count": 57
           },
           {
            "bin_end": 54.9599998,
            "bin_start": 53.5249995,
            "count": 32
           },
           {
            "bin_end": 56.3950001,
            "bin_start": 54.9599998,
            "count": 28
           },
           {
            "bin_end": 57.8300004,
            "bin_start": 56.3950001,
            "count": 16
           },
           {
            "bin_end": 59.2650007,
            "bin_start": 57.8300004,
            "count": 16
           },
           {
            "bin_end": 60.700001,
            "bin_start": 59.2650007,
            "count": 9
           }
          ],
          "max": "60.700001",
          "min": "46.349998",
          "nan_count": 0,
          "unique_count": 221
         }
        },
        {
         "dtype": "float64",
         "name": "NKE",
         "stats": {
          "histogram": [
           {
            "bin_end": 19.420499,
            "bin_start": 18.862499,
            "count": 13
           },
           {
            "bin_end": 19.978499,
            "bin_start": 19.420499,
            "count": 15
           },
           {
            "bin_end": 20.536499,
            "bin_start": 19.978499,
            "count": 23
           },
           {
            "bin_end": 21.094499,
            "bin_start": 20.536499,
            "count": 50
           },
           {
            "bin_end": 21.652499,
            "bin_start": 21.094499,
            "count": 36
           },
           {
            "bin_end": 22.210499,
            "bin_start": 21.652499,
            "count": 21
           },
           {
            "bin_end": 22.768499000000002,
            "bin_start": 22.210499,
            "count": 29
           },
           {
            "bin_end": 23.326499000000002,
            "bin_start": 22.768499000000002,
            "count": 21
           },
           {
            "bin_end": 23.884499,
            "bin_start": 23.326499000000002,
            "count": 23
           },
           {
            "bin_end": 24.442499,
            "bin_start": 23.884499,
            "count": 20
           }
          ],
          "max": "24.442499",
          "min": "18.862499",
          "nan_count": 0,
          "unique_count": 236
         }
        },
        {
         "dtype": "float64",
         "name": "O",
         "stats": {
          "histogram": [
           {
            "bin_end": 28.8430009,
            "bin_start": 28.040001,
            "count": 1
           },
           {
            "bin_end": 29.6460008,
            "bin_start": 28.8430009,
            "count": 0
           },
           {
            "bin_end": 30.4490007,
            "bin_start": 29.6460008,
            "count": 1
           },
           {
            "bin_end": 31.2520006,
            "bin_start": 30.4490007,
            "count": 5
           },
           {
            "bin_end": 32.0550005,
            "bin_start": 31.2520006,
            "count": 12
           },
           {
            "bin_end": 32.8580004,
            "bin_start": 32.0550005,
            "count": 20
           },
           {
            "bin_end": 33.6610003,
            "bin_start": 32.8580004,
            "count": 50
           },
           {
            "bin_end": 34.4640002,
            "bin_start": 33.6610003,
            "count": 58
           },
           {
            "bin_end": 35.2670001,
            "bin_start": 34.4640002,
            "count": 83
           },
           {
            "bin_end": 36.07,
            "bin_start": 35.2670001,
            "count": 21
           }
          ],
          "max": "36.07",
          "min": "28.040001",
          "nan_count": 0,
          "unique_count": 191
         }
        },
        {
         "dtype": "float64",
         "name": "VTR",
         "stats": {
          "histogram": [
           {
            "bin_end": 51.7106324,
            "bin_start": 50.199841,
            "count": 2
           },
           {
            "bin_end": 53.2214238,
            "bin_start": 51.7106324,
            "count": 0
           },
           {
            "bin_end": 54.7322152,
            "bin_start": 53.2214238,
            "count": 7
           },
           {
            "bin_end": 56.2430066,
            "bin_start": 54.7322152,
            "count": 10
           },
           {
            "bin_end": 57.753798,
            "bin_start": 56.2430066,
            "count": 16
           },
           {
            "bin_end": 59.2645894,
            "bin_start": 57.753798,
            "count": 31
           },
           {
            "bin_end": 60.7753808,
            "bin_start": 59.2645894,
            "count": 59
           },
           {
            "bin_end": 62.286172199999996,
            "bin_start": 60.7753808,
            "count": 67
           },
           {
            "bin_end": 63.7969636,
            "bin_start": 62.286172199999996,
            "count": 44
           },
           {
            "bin_end": 65.307755,
            "bin_start": 63.7969636,
            "count": 15
           }
          ],
          "max": "65.307755",
          "min": "50.199841",
          "nan_count": 0,
          "unique_count": 209
         }
        },
        {
         "dtype": "float64",
         "name": "HRB",
         "stats": {
          "histogram": [
           {
            "bin_end": 12.866999900000001,
            "bin_start": 12.3,
            "count": 19
           },
           {
            "bin_end": 13.4339998,
            "bin_start": 12.866999900000001,
            "count": 24
           },
           {
            "bin_end": 14.000999700000001,
            "bin_start": 13.4339998,
            "count": 20
           },
           {
            "bin_end": 14.5679996,
            "bin_start": 14.000999700000001,
            "count": 27
           },
           {
            "bin_end": 15.134999500000001,
            "bin_start": 14.5679996,
            "count": 25
           },
           {
            "bin_end": 15.701999400000002,
            "bin_start": 15.134999500000001,
            "count": 44
           },
           {
            "bin_end": 16.2689993,
            "bin_start": 15.701999400000002,
            "count": 53
           },
           {
            "bin_end": 16.835999200000003,
            "bin_start": 16.2689993,
            "count": 14
           },
           {
            "bin_end": 17.402999100000002,
            "bin_start": 16.835999200000003,
            "count": 7
           },
           {
            "bin_end": 17.969999,
            "bin_start": 17.402999100000002,
            "count": 18
           }
          ],
          "max": "17.969999",
          "min": "12.3",
          "nan_count": 0,
          "unique_count": 187
         }
        },
        {
         "dtype": "float64",
         "name": "WMB",
         "stats": {
          "histogram": [
           {
            "bin_end": 19.8354464,
            "bin_start": 19.03492,
            "count": 4
           },
           {
            "bin_end": 20.6359728,
            "bin_start": 19.8354464,
            "count": 16
           },
           {
            "bin_end": 21.4364992,
            "bin_start": 20.6359728,
            "count": 14
           },
           {
            "bin_end": 22.2370256,
            "bin_start": 21.4364992,
            "count": 35
           },
           {
            "bin_end": 23.037551999999998,
            "bin_start": 22.2370256,
            "count": 13
           },
           {
            "bin_end": 23.8380784,
            "bin_start": 23.037551999999998,
            "count": 15
           },
           {
            "bin_end": 24.6386048,
            "bin_start": 23.8380784,
            "count": 41
           },
           {
            "bin_end": 25.4391312,
            "bin_start": 24.6386048,
            "count": 71
           },
           {
            "bin_end": 26.2396576,
            "bin_start": 25.4391312,
            "count": 27
           },
           {
            "bin_end": 27.040184,
            "bin_start": 26.2396576,
            "count": 15
           }
          ],
          "max": "27.040184",
          "min": "19.03492",
          "nan_count": 0,
          "unique_count": 209
         }
        },
        {
         "dtype": "float64",
         "name": "LUMN",
         "stats": {
          "histogram": [
           {
            "bin_end": 33.311,
            "bin_start": 31.82,
            "count": 11
           },
           {
            "bin_end": 34.802,
            "bin_start": 33.311,
            "count": 42
           },
           {
            "bin_end": 36.293,
            "bin_start": 34.802,
            "count": 28
           },
           {
            "bin_end": 37.784,
            "bin_start": 36.293,
            "count": 29
           },
           {
            "bin_end": 39.275,
            "bin_start": 37.784,
            "count": 11
           },
           {
            "bin_end": 40.766,
            "bin_start": 39.275,
            "count": 59
           },
           {
            "bin_end": 42.257,
            "bin_start": 40.766,
            "count": 30
           },
           {
            "bin_end": 43.748,
            "bin_start": 42.257,
            "count": 22
           },
           {
            "bin_end": 45.239,
            "bin_start": 43.748,
            "count": 16
           },
           {
            "bin_end": 46.73,
            "bin_start": 45.239,
            "count": 3
           }
          ],
          "max": "46.73",
          "min": "31.82",
          "nan_count": 0,
          "unique_count": 224
         }
        },
        {
         "dtype": "float64",
         "name": "WM",
         "stats": {
          "histogram": [
           {
            "bin_end": 29.3140001,
            "bin_start": 28.17,
            "count": 2
           },
           {
            "bin_end": 30.4580002,
            "bin_start": 29.3140001,
            "count": 13
           },
           {
            "bin_end": 31.6020003,
            "bin_start": 30.4580002,
            "count": 42
           },
           {
            "bin_end": 32.7460004,
            "bin_start": 31.6020003,
            "count": 30
           },
           {
            "bin_end": 33.8900005,
            "bin_start": 32.7460004,
            "count": 17
           },
           {
            "bin_end": 35.0340006,
            "bin_start": 33.8900005,
            "count": 5
           },
           {
            "bin_end": 36.1780007,
            "bin_start": 35.0340006,
            "count": 12
           },
           {
            "bin_end": 37.3220008,
            "bin_start": 36.1780007,
            "count": 54
           },
           {
            "bin_end": 38.4660009,
            "bin_start": 37.3220008,
            "count": 54
           },
           {
            "bin_end": 39.610001,
            "bin_start": 38.4660009,
            "count": 22
           }
          ],
          "max": "39.610001",
          "min": "28.17",
          "nan_count": 0,
          "unique_count": 214
         }
        },
        {
         "dtype": "float64",
         "name": "PEP",
         "stats": {
          "histogram": [
           {
            "bin_end": 61.169001699999995,
            "bin_start": 59.990002,
            "count": 15
           },
           {
            "bin_end": 62.3480014,
            "bin_start": 61.169001699999995,
            "count": 22
           },
           {
            "bin_end": 63.5270011,
            "bin_start": 62.3480014,
            "count": 46
           },
           {
            "bin_end": 64.7060008,
            "bin_start": 63.5270011,
            "count": 58
           },
           {
            "bin_end": 65.8850005,
            "bin_start": 64.7060008,
            "count": 19
           },
           {
            "bin_end": 67.0640002,
            "bin_start": 65.8850005,
            "count": 27
           },
           {
            "bin_end": 68.2429999,
            "bin_start": 67.0640002,
            "count": 8
           },
           {
            "bin_end": 69.4219996,
            "bin_start": 68.2429999,
            "count": 25
           },
           {
            "bin_end": 70.6009993,
            "bin_start": 69.4219996,
            "count": 22
           },
           {
            "bin_end": 71.779999,
            "bin_start": 70.6009993,
            "count": 9
           }
          ],
          "max": "71.779999",
          "min": "59.990002",
          "nan_count": 0,
          "unique_count": 216
         }
        },
        {
         "dtype": "float64",
         "name": "T",
         "stats": {
          "histogram": [
           {
            "bin_end": 27.7830001,
            "bin_start": 27.33,
            "count": 10
           },
           {
            "bin_end": 28.2360002,
            "bin_start": 27.7830001,
            "count": 39
           },
           {
            "bin_end": 28.6890003,
            "bin_start": 28.2360002,
            "count": 40
           },
           {
            "bin_end": 29.1420004,
            "bin_start": 28.6890003,
            "count": 41
           },
           {
            "bin_end": 29.595000499999998,
            "bin_start": 29.1420004,
            "count": 27
           },
           {
            "bin_end": 30.0480006,
            "bin_start": 29.595000499999998,
            "count": 11
           },
           {
            "bin_end": 30.5010007,
            "bin_start": 30.0480006,
            "count": 24
           },
           {
            "bin_end": 30.9540008,
            "bin_start": 30.5010007,
            "count": 23
           },
           {
            "bin_end": 31.4070009,
            "bin_start": 30.9540008,
            "count": 26
           },
           {
            "bin_end": 31.860001,
            "bin_start": 31.4070009,
            "count": 10
           }
          ],
          "max": "31.860001",
          "min": "27.33",
          "nan_count": 0,
          "unique_count": 189
         }
        },
        {
         "dtype": "float64",
         "name": "C_lag_1",
         "stats": {
          "histogram": [
           {
            "bin_end": 25.9290008,
            "bin_start": 23.110001,
            "count": 17
           },
           {
            "bin_end": 28.7480006,
            "bin_start": 25.9290008,
            "count": 47
           },
           {
            "bin_end": 31.567000399999998,
            "bin_start": 28.7480006,
            "count": 32
           },
           {
            "bin_end": 34.3860002,
            "bin_start": 31.567000399999998,
            "count": 6
           },
           {
            "bin_end": 37.205,
            "bin_start": 34.3860002,
            "count": 3
           },
           {
            "bin_end": 40.0239998,
            "bin_start": 37.205,
            "count": 33
           },
           {
            "bin_end": 42.8429996,
            "bin_start": 40.0239998,
            "count": 22
           },
           {
            "bin_end": 45.6619994,
            "bin_start": 42.8429996,
            "count": 41
           },
           {
            "bin_end": 48.4809992,
            "bin_start": 45.6619994,
            "count": 28
           },
           {
            "bin_end": 51.299999,
            "bin_start": 48.4809992,
            "count": 22
           }
          ],
          "max": "51.299999",
          "min": "23.110001",
          "nan_count": 0,
          "unique_count": 199
         }
        },
        {
         "dtype": "float64",
         "name": "MS_lag_1",
         "stats": {
          "histogram": [
           {
            "bin_end": 14.322000000000001,
            "bin_start": 12.47,
            "count": 17
           },
           {
            "bin_end": 16.174,
            "bin_start": 14.322000000000001,
            "count": 44
           },
           {
            "bin_end": 18.026,
            "bin_start": 16.174,
            "count": 36
           },
           {
            "bin_end": 19.878,
            "bin_start": 18.026,
            "count": 5
           },
           {
            "bin_end": 21.729999999999997,
            "bin_start": 19.878,
            "count": 11
           },
           {
            "bin_end": 23.582,
            "bin_start": 21.729999999999997,
            "count": 35
           },
           {
            "bin_end": 25.433999999999997,
            "bin_start": 23.582,
            "count": 18
           },
           {
            "bin_end": 27.285999999999998,
            "bin_start": 25.433999999999997,
            "count": 26
           },
           {
            "bin_end": 29.137999999999998,
            "bin_start": 27.285999999999998,
            "count": 34
           },
           {
            "bin_end": 30.99,
            "bin_start": 29.137999999999998,
            "count": 25
           }
          ],
          "max": "30.99",
          "min": "12.47",
          "nan_count": 0,
          "unique_count": 230
         }
        },
        {
         "dtype": "object",
         "name": "_deepnote_index_column"
        }
       ],
       "row_count": 251,
       "rows": [
        {
         "ABT": 23.159946,
         "AES": 12.6,
         "AMT": 51.470001,
         "BK": 30.629999,
         "C": 49,
         "C_lag_1": 49,
         "GPK": 4.03,
         "HRB": 12.3,
         "IVZ": 24.41,
         "KEY": 8.96,
         "LUMN": 46.73,
         "LYB": 34.869999,
         "MO": 24.389999,
         "MPW": 10.67,
         "MS": 28.469999,
         "MS_lag_1": 28.23,
         "NI": 7.017682,
         "NKE": 20.9925,
         "O": 33.889999,
         "OXY": 92.606216,
         "PEP": 65.410004,
         "SCHW": 17.219999,
         "T": 29.879999,
         "TJX": 10.895,
         "VNO": 61.455132,
         "VTR": 60.7514,
         "WM": 36.599998,
         "WMB": 20.005009,
         "_deepnote_index_column": "2011-01-04"
        },
        {
         "ABT": 23.159946,
         "AES": 12.77,
         "AMT": 50.759998,
         "BK": 31.690001,
         "C": 49.700001,
         "C_lag_1": 49,
         "GPK": 4.1,
         "HRB": 12.59,
         "IVZ": 24.389999,
         "KEY": 9.02,
         "LUMN": 46.389999,
         "LYB": 34.849998,
         "MO": 24.48,
         "MPW": 10.95,
         "MS": 28.83,
         "MS_lag_1": 28.469999,
         "NI": 7.045187,
         "NKE": 21.129999,
         "O": 33.860001,
         "OXY": 92.951118,
         "PEP": 66.589996,
         "SCHW": 18.08,
         "T": 29.98,
         "TJX": 10.75,
         "VNO": 61.681931,
         "VTR": 60.260365,
         "WM": 36.580002,
         "WMB": 20.037617,
         "_deepnote_index_column": "2011-01-05"
        },
        {
         "ABT": 23.111965,
         "AES": 12.99,
         "AMT": 50.619999,
         "BK": 31.440001,
         "C": 49.5,
         "C_lag_1": 49.700001,
         "GPK": 4.06,
         "HRB": 12.59,
         "IVZ": 24.35,
         "KEY": 8.71,
         "LUMN": 45.439999,
         "LYB": 34.970001,
         "MO": 24.58,
         "MPW": 10.89,
         "MS": 28.799999,
         "MS_lag_1": 28.83,
         "NI": 7.041257,
         "NKE": 20.940001,
         "O": 33.630001,
         "OXY": 92.414604,
         "PEP": 66.839996,
         "SCHW": 17.969999,
         "T": 29.15,
         "TJX": 11.38,
         "VNO": 61.272232,
         "VTR": 60.203266,
         "WM": 36.41,
         "WMB": 19.996857,
         "_deepnote_index_column": "2011-01-06"
        },
        {
         "ABT": 23.207926,
         "AES": 12.99,
         "AMT": 50.5,
         "BK": 30.76,
         "C": 49.400002,
         "C_lag_1": 49.5,
         "GPK": 4.15,
         "HRB": 12.78,
         "IVZ": 24.33,
         "KEY": 8.73,
         "LUMN": 44.810001,
         "LYB": 34.619999,
         "MO": 24.389999,
         "MPW": 10.77,
         "MS": 28.200001,
         "MS_lag_1": 28.799999,
         "NI": 7.155206,
         "NKE": 20.8825,
         "O": 33.810001,
         "OXY": 92.15593,
         "PEP": 66.389999,
         "SCHW": 17.889999,
         "T": 28.85,
         "TJX": 11.4125,
         "VNO": 61.213703,
         "VTR": 59.849262,
         "WM": 36.209999,
         "WMB": 20.314783,
         "_deepnote_index_column": "2011-01-07"
        },
        {
         "ABT": 23.001612,
         "AES": 12.97,
         "AMT": 50.41,
         "BK": 30.700001,
         "C": 49.099998,
         "C_lag_1": 49.400002,
         "GPK": 4.22,
         "HRB": 12.66,
         "IVZ": 24.25,
         "KEY": 8.66,
         "LUMN": 44.959999,
         "LYB": 35.240002,
         "MO": 24.24,
         "MPW": 10.81,
         "MS": 28.049999,
         "MS_lag_1": 28.200001,
         "NI": 7.108055,
         "NKE": 21.0425,
         "O": 33.709999,
         "OXY": 91.772705,
         "PEP": 66.050003,
         "SCHW": 17.950001,
         "T": 28.34,
         "TJX": 11.395,
         "VNO": 61.023483,
         "VTR": 59.403904,
         "WM": 36.150002,
         "WMB": 20.176201,
         "_deepnote_index_column": "2011-01-10"
        },
        {
         "ABT": 22.953632,
         "AES": 13.14,
         "AMT": 50.470001,
         "BK": 30.690001,
         "C": 49.400002,
         "C_lag_1": 49.099998,
         "GPK": 4.25,
         "HRB": 12.75,
         "IVZ": 24.76,
         "KEY": 8.68,
         "LUMN": 44.41,
         "LYB": 36.470001,
         "MO": 24.07,
         "MPW": 10.72,
         "MS": 27.959999,
         "MS_lag_1": 28.049999,
         "NI": 7.163065,
         "NKE": 21.004999,
         "O": 33.549999,
         "OXY": 92.855316,
         "PEP": 66.330002,
         "SCHW": 17.91,
         "T": 27.91,
         "TJX": 11.42,
         "VNO": 60.774738,
         "VTR": 59.186935,
         "WM": 36.040001,
         "WMB": 20.681623,
         "_deepnote_index_column": "2011-01-11"
        },
        {
         "ABT": 22.828884,
         "AES": 12.94,
         "AMT": 50.700001,
         "BK": 31.66,
         "C": 50.799999,
         "C_lag_1": 49.400002,
         "GPK": 4.34,
         "HRB": 12.63,
         "IVZ": 24.879999,
         "KEY": 8.77,
         "LUMN": 44.630001,
         "LYB": 36.740002,
         "MO": 24.059999,
         "MPW": 10.78,
         "MS": 28.709999,
         "MS_lag_1": 27.959999,
         "NI": 7.198428,
         "NKE": 20.932501,
         "O": 33.599998,
         "OXY": 93.410988,
         "PEP": 66.730003,
         "SCHW": 18.16,
         "T": 28.040001,
         "TJX": 11.4725,
         "VNO": 61.491714,
         "VTR": 59.974876,
         "WM": 36.360001,
         "WMB": 21.105528,
         "_deepnote_index_column": "2011-01-12"
        },
        {
         "ABT": 22.728127,
         "AES": 12.93,
         "AMT": 50.75,
         "BK": 31.639999,
         "C": 50.400002,
         "C_lag_1": 50.799999,
         "GPK": 4.44,
         "HRB": 12.53,
         "IVZ": 24.73,
         "KEY": 8.57,
         "LUMN": 44.860001,
         "LYB": 36.400002,
         "MO": 24.120001,
         "MPW": 10.77,
         "MS": 28.299999,
         "MS_lag_1": 28.709999,
         "NI": 7.202358,
         "NKE": 20.639999,
         "O": 33.68,
         "OXY": 92.376282,
         "PEP": 66.910004,
         "SCHW": 18.549999,
         "T": 28.08,
         "TJX": 11.38,
         "VNO": 61.72583,
         "VTR": 60.066235,
         "WM": 36.68,
         "WMB": 21.619104,
         "_deepnote_index_column": "2011-01-13"
        },
        {
         "ABT": 22.497822,
         "AES": 12.99,
         "AMT": 49.849998,
         "BK": 32.369999,
         "C": 51.299999,
         "C_lag_1": 50.400002,
         "GPK": 4.49,
         "HRB": 12.81,
         "IVZ": 25,
         "KEY": 8.77,
         "LUMN": 44.27,
         "LYB": 36.610001,
         "MO": 24.16,
         "MPW": 10.91,
         "MS": 28.98,
         "MS_lag_1": 28.299999,
         "NI": 7.29666,
         "NKE": 21.0175,
         "O": 33.709999,
         "OXY": 93.238541,
         "PEP": 66.779999,
         "SCHW": 18.83,
         "T": 28.43,
         "TJX": 11.4925,
         "VNO": 63.035408,
         "VTR": 60.420235,
         "WM": 37.029999,
         "WMB": 21.570192,
         "_deepnote_index_column": "2011-01-14"
        },
        {
         "ABT": 22.646561,
         "AES": 12.95,
         "AMT": 49.490002,
         "BK": 32.02,
         "C": 48,
         "C_lag_1": 51.299999,
         "GPK": 4.47,
         "HRB": 13.12,
         "IVZ": 24.98,
         "KEY": 8.87,
         "LUMN": 43.939999,
         "LYB": 36.5,
         "MO": 24.08,
         "MPW": 10.89,
         "MS": 28.75,
         "MS_lag_1": 28.98,
         "NI": 7.280943,
         "NKE": 21.014999,
         "O": 34.419998,
         "OXY": 94.416954,
         "PEP": 66.57,
         "SCHW": 18.870001,
         "T": 28.33,
         "TJX": 11.545,
         "VNO": 63.642643,
         "VTR": 61.379467,
         "WM": 37.209999,
         "WMB": 21.399,
         "_deepnote_index_column": "2011-01-18"
        }
       ]
      },
      "text/html": [
       "<div>\n",
       "<style scoped>\n",
       "    .dataframe tbody tr th:only-of-type {\n",
       "        vertical-align: middle;\n",
       "    }\n",
       "\n",
       "    .dataframe tbody tr th {\n",
       "        vertical-align: top;\n",
       "    }\n",
       "\n",
       "    .dataframe thead th {\n",
       "        text-align: right;\n",
       "    }\n",
       "</style>\n",
       "<table border=\"1\" class=\"dataframe\">\n",
       "  <thead>\n",
       "    <tr style=\"text-align: right;\">\n",
       "      <th>ticker</th>\n",
       "      <th>NI</th>\n",
       "      <th>TJX</th>\n",
       "      <th>C</th>\n",
       "      <th>MS</th>\n",
       "      <th>ABT</th>\n",
       "      <th>MO</th>\n",
       "      <th>BK</th>\n",
       "      <th>SCHW</th>\n",
       "      <th>GPK</th>\n",
       "      <th>LYB</th>\n",
       "      <th>...</th>\n",
       "      <th>O</th>\n",
       "      <th>VTR</th>\n",
       "      <th>HRB</th>\n",
       "      <th>WMB</th>\n",
       "      <th>LUMN</th>\n",
       "      <th>WM</th>\n",
       "      <th>PEP</th>\n",
       "      <th>T</th>\n",
       "      <th>C_lag_1</th>\n",
       "      <th>MS_lag_1</th>\n",
       "    </tr>\n",
       "    <tr>\n",
       "      <th>date</th>\n",
       "      <th></th>\n",
       "      <th></th>\n",
       "      <th></th>\n",
       "      <th></th>\n",
       "      <th></th>\n",
       "      <th></th>\n",
       "      <th></th>\n",
       "      <th></th>\n",
       "      <th></th>\n",
       "      <th></th>\n",
       "      <th></th>\n",
       "      <th></th>\n",
       "      <th></th>\n",
       "      <th></th>\n",
       "      <th></th>\n",
       "      <th></th>\n",
       "      <th></th>\n",
       "      <th></th>\n",
       "      <th></th>\n",
       "      <th></th>\n",
       "      <th></th>\n",
       "    </tr>\n",
       "  </thead>\n",
       "  <tbody>\n",
       "    <tr>\n",
       "      <th>2011-01-04</th>\n",
       "      <td>7.017682</td>\n",
       "      <td>10.895000</td>\n",
       "      <td>49.000000</td>\n",
       "      <td>28.469999</td>\n",
       "      <td>23.159946</td>\n",
       "      <td>24.389999</td>\n",
       "      <td>30.629999</td>\n",
       "      <td>17.219999</td>\n",
       "      <td>4.03</td>\n",
       "      <td>34.869999</td>\n",
       "      <td>...</td>\n",
       "      <td>33.889999</td>\n",
       "      <td>60.751400</td>\n",
       "      <td>12.30</td>\n",
       "      <td>20.005009</td>\n",
       "      <td>46.730000</td>\n",
       "      <td>36.599998</td>\n",
       "      <td>65.410004</td>\n",
       "      <td>29.879999</td>\n",
       "      <td>49.000000</td>\n",
       "      <td>28.230000</td>\n",
       "    </tr>\n",
       "    <tr>\n",
       "      <th>2011-01-05</th>\n",
       "      <td>7.045187</td>\n",
       "      <td>10.750000</td>\n",
       "      <td>49.700001</td>\n",
       "      <td>28.830000</td>\n",
       "      <td>23.159946</td>\n",
       "      <td>24.480000</td>\n",
       "      <td>31.690001</td>\n",
       "      <td>18.080000</td>\n",
       "      <td>4.10</td>\n",
       "      <td>34.849998</td>\n",
       "      <td>...</td>\n",
       "      <td>33.860001</td>\n",
       "      <td>60.260365</td>\n",
       "      <td>12.59</td>\n",
       "      <td>20.037617</td>\n",
       "      <td>46.389999</td>\n",
       "      <td>36.580002</td>\n",
       "      <td>66.589996</td>\n",
       "      <td>29.980000</td>\n",
       "      <td>49.000000</td>\n",
       "      <td>28.469999</td>\n",
       "    </tr>\n",
       "    <tr>\n",
       "      <th>2011-01-06</th>\n",
       "      <td>7.041257</td>\n",
       "      <td>11.380000</td>\n",
       "      <td>49.500000</td>\n",
       "      <td>28.799999</td>\n",
       "      <td>23.111965</td>\n",
       "      <td>24.580000</td>\n",
       "      <td>31.440001</td>\n",
       "      <td>17.969999</td>\n",
       "      <td>4.06</td>\n",
       "      <td>34.970001</td>\n",
       "      <td>...</td>\n",
       "      <td>33.630001</td>\n",
       "      <td>60.203266</td>\n",
       "      <td>12.59</td>\n",
       "      <td>19.996857</td>\n",
       "      <td>45.439999</td>\n",
       "      <td>36.410000</td>\n",
       "      <td>66.839996</td>\n",
       "      <td>29.150000</td>\n",
       "      <td>49.700001</td>\n",
       "      <td>28.830000</td>\n",
       "    </tr>\n",
       "    <tr>\n",
       "      <th>2011-01-07</th>\n",
       "      <td>7.155206</td>\n",
       "      <td>11.412500</td>\n",
       "      <td>49.400002</td>\n",
       "      <td>28.200001</td>\n",
       "      <td>23.207926</td>\n",
       "      <td>24.389999</td>\n",
       "      <td>30.760000</td>\n",
       "      <td>17.889999</td>\n",
       "      <td>4.15</td>\n",
       "      <td>34.619999</td>\n",
       "      <td>...</td>\n",
       "      <td>33.810001</td>\n",
       "      <td>59.849262</td>\n",
       "      <td>12.78</td>\n",
       "      <td>20.314783</td>\n",
       "      <td>44.810001</td>\n",
       "      <td>36.209999</td>\n",
       "      <td>66.389999</td>\n",
       "      <td>28.850000</td>\n",
       "      <td>49.500000</td>\n",
       "      <td>28.799999</td>\n",
       "    </tr>\n",
       "    <tr>\n",
       "      <th>2011-01-10</th>\n",
       "      <td>7.108055</td>\n",
       "      <td>11.395000</td>\n",
       "      <td>49.099998</td>\n",
       "      <td>28.049999</td>\n",
       "      <td>23.001612</td>\n",
       "      <td>24.240000</td>\n",
       "      <td>30.700001</td>\n",
       "      <td>17.950001</td>\n",
       "      <td>4.22</td>\n",
       "      <td>35.240002</td>\n",
       "      <td>...</td>\n",
       "      <td>33.709999</td>\n",
       "      <td>59.403904</td>\n",
       "      <td>12.66</td>\n",
       "      <td>20.176201</td>\n",
       "      <td>44.959999</td>\n",
       "      <td>36.150002</td>\n",
       "      <td>66.050003</td>\n",
       "      <td>28.340000</td>\n",
       "      <td>49.400002</td>\n",
       "      <td>28.200001</td>\n",
       "    </tr>\n",
       "    <tr>\n",
       "      <th>...</th>\n",
       "      <td>...</td>\n",
       "      <td>...</td>\n",
       "      <td>...</td>\n",
       "      <td>...</td>\n",
       "      <td>...</td>\n",
       "      <td>...</td>\n",
       "      <td>...</td>\n",
       "      <td>...</td>\n",
       "      <td>...</td>\n",
       "      <td>...</td>\n",
       "      <td>...</td>\n",
       "      <td>...</td>\n",
       "      <td>...</td>\n",
       "      <td>...</td>\n",
       "      <td>...</td>\n",
       "      <td>...</td>\n",
       "      <td>...</td>\n",
       "      <td>...</td>\n",
       "      <td>...</td>\n",
       "      <td>...</td>\n",
       "      <td>...</td>\n",
       "    </tr>\n",
       "    <tr>\n",
       "      <th>2011-12-23</th>\n",
       "      <td>9.202358</td>\n",
       "      <td>16.327499</td>\n",
       "      <td>27.459999</td>\n",
       "      <td>15.760000</td>\n",
       "      <td>26.878395</td>\n",
       "      <td>29.840000</td>\n",
       "      <td>20.080000</td>\n",
       "      <td>11.540000</td>\n",
       "      <td>4.30</td>\n",
       "      <td>32.990002</td>\n",
       "      <td>...</td>\n",
       "      <td>35.250000</td>\n",
       "      <td>62.738380</td>\n",
       "      <td>16.08</td>\n",
       "      <td>26.665192</td>\n",
       "      <td>37.099998</td>\n",
       "      <td>32.730000</td>\n",
       "      <td>66.570000</td>\n",
       "      <td>29.870001</td>\n",
       "      <td>27.650000</td>\n",
       "      <td>15.880000</td>\n",
       "    </tr>\n",
       "    <tr>\n",
       "      <th>2011-12-27</th>\n",
       "      <td>9.296660</td>\n",
       "      <td>16.344999</td>\n",
       "      <td>26.900000</td>\n",
       "      <td>15.290000</td>\n",
       "      <td>26.979155</td>\n",
       "      <td>29.719999</td>\n",
       "      <td>19.980000</td>\n",
       "      <td>11.520000</td>\n",
       "      <td>4.27</td>\n",
       "      <td>32.970001</td>\n",
       "      <td>...</td>\n",
       "      <td>35.590000</td>\n",
       "      <td>63.229416</td>\n",
       "      <td>16.00</td>\n",
       "      <td>26.754864</td>\n",
       "      <td>37.160000</td>\n",
       "      <td>32.849998</td>\n",
       "      <td>66.379997</td>\n",
       "      <td>30.040001</td>\n",
       "      <td>27.459999</td>\n",
       "      <td>15.760000</td>\n",
       "    </tr>\n",
       "    <tr>\n",
       "      <th>2011-12-28</th>\n",
       "      <td>9.288802</td>\n",
       "      <td>16.209999</td>\n",
       "      <td>26.129999</td>\n",
       "      <td>14.900000</td>\n",
       "      <td>26.787233</td>\n",
       "      <td>29.719999</td>\n",
       "      <td>19.580000</td>\n",
       "      <td>11.230000</td>\n",
       "      <td>4.12</td>\n",
       "      <td>32.250000</td>\n",
       "      <td>...</td>\n",
       "      <td>35.060001</td>\n",
       "      <td>62.772640</td>\n",
       "      <td>15.87</td>\n",
       "      <td>26.192375</td>\n",
       "      <td>36.669998</td>\n",
       "      <td>32.410000</td>\n",
       "      <td>65.910004</td>\n",
       "      <td>29.950001</td>\n",
       "      <td>26.900000</td>\n",
       "      <td>15.290000</td>\n",
       "    </tr>\n",
       "    <tr>\n",
       "      <th>2011-12-29</th>\n",
       "      <td>9.383104</td>\n",
       "      <td>16.344999</td>\n",
       "      <td>26.760000</td>\n",
       "      <td>15.240000</td>\n",
       "      <td>27.027134</td>\n",
       "      <td>29.790001</td>\n",
       "      <td>20.070000</td>\n",
       "      <td>11.300000</td>\n",
       "      <td>4.22</td>\n",
       "      <td>32.810001</td>\n",
       "      <td>...</td>\n",
       "      <td>35.250000</td>\n",
       "      <td>63.149479</td>\n",
       "      <td>16.27</td>\n",
       "      <td>26.534760</td>\n",
       "      <td>37.189999</td>\n",
       "      <td>32.779999</td>\n",
       "      <td>66.540001</td>\n",
       "      <td>30.170000</td>\n",
       "      <td>26.129999</td>\n",
       "      <td>14.900000</td>\n",
       "    </tr>\n",
       "    <tr>\n",
       "      <th>2011-12-30</th>\n",
       "      <td>9.355599</td>\n",
       "      <td>16.137501</td>\n",
       "      <td>26.309999</td>\n",
       "      <td>15.130000</td>\n",
       "      <td>26.979155</td>\n",
       "      <td>29.650000</td>\n",
       "      <td>19.910000</td>\n",
       "      <td>11.260000</td>\n",
       "      <td>4.26</td>\n",
       "      <td>32.490002</td>\n",
       "      <td>...</td>\n",
       "      <td>34.959999</td>\n",
       "      <td>62.955349</td>\n",
       "      <td>16.33</td>\n",
       "      <td>26.917904</td>\n",
       "      <td>37.200001</td>\n",
       "      <td>32.709999</td>\n",
       "      <td>66.349998</td>\n",
       "      <td>30.240000</td>\n",
       "      <td>26.760000</td>\n",
       "      <td>15.240000</td>\n",
       "    </tr>\n",
       "  </tbody>\n",
       "</table>\n",
       "<p>251 rows × 28 columns</p>\n",
       "</div>"
      ],
      "text/plain": [
       "ticker            NI        TJX          C         MS        ABT         MO  \\\n",
       "date                                                                          \n",
       "2011-01-04  7.017682  10.895000  49.000000  28.469999  23.159946  24.389999   \n",
       "2011-01-05  7.045187  10.750000  49.700001  28.830000  23.159946  24.480000   \n",
       "2011-01-06  7.041257  11.380000  49.500000  28.799999  23.111965  24.580000   \n",
       "2011-01-07  7.155206  11.412500  49.400002  28.200001  23.207926  24.389999   \n",
       "2011-01-10  7.108055  11.395000  49.099998  28.049999  23.001612  24.240000   \n",
       "...              ...        ...        ...        ...        ...        ...   \n",
       "2011-12-23  9.202358  16.327499  27.459999  15.760000  26.878395  29.840000   \n",
       "2011-12-27  9.296660  16.344999  26.900000  15.290000  26.979155  29.719999   \n",
       "2011-12-28  9.288802  16.209999  26.129999  14.900000  26.787233  29.719999   \n",
       "2011-12-29  9.383104  16.344999  26.760000  15.240000  27.027134  29.790001   \n",
       "2011-12-30  9.355599  16.137501  26.309999  15.130000  26.979155  29.650000   \n",
       "\n",
       "ticker             BK       SCHW   GPK        LYB  ...          O        VTR  \\\n",
       "date                                               ...                         \n",
       "2011-01-04  30.629999  17.219999  4.03  34.869999  ...  33.889999  60.751400   \n",
       "2011-01-05  31.690001  18.080000  4.10  34.849998  ...  33.860001  60.260365   \n",
       "2011-01-06  31.440001  17.969999  4.06  34.970001  ...  33.630001  60.203266   \n",
       "2011-01-07  30.760000  17.889999  4.15  34.619999  ...  33.810001  59.849262   \n",
       "2011-01-10  30.700001  17.950001  4.22  35.240002  ...  33.709999  59.403904   \n",
       "...               ...        ...   ...        ...  ...        ...        ...   \n",
       "2011-12-23  20.080000  11.540000  4.30  32.990002  ...  35.250000  62.738380   \n",
       "2011-12-27  19.980000  11.520000  4.27  32.970001  ...  35.590000  63.229416   \n",
       "2011-12-28  19.580000  11.230000  4.12  32.250000  ...  35.060001  62.772640   \n",
       "2011-12-29  20.070000  11.300000  4.22  32.810001  ...  35.250000  63.149479   \n",
       "2011-12-30  19.910000  11.260000  4.26  32.490002  ...  34.959999  62.955349   \n",
       "\n",
       "ticker        HRB        WMB       LUMN         WM        PEP          T  \\\n",
       "date                                                                       \n",
       "2011-01-04  12.30  20.005009  46.730000  36.599998  65.410004  29.879999   \n",
       "2011-01-05  12.59  20.037617  46.389999  36.580002  66.589996  29.980000   \n",
       "2011-01-06  12.59  19.996857  45.439999  36.410000  66.839996  29.150000   \n",
       "2011-01-07  12.78  20.314783  44.810001  36.209999  66.389999  28.850000   \n",
       "2011-01-10  12.66  20.176201  44.959999  36.150002  66.050003  28.340000   \n",
       "...           ...        ...        ...        ...        ...        ...   \n",
       "2011-12-23  16.08  26.665192  37.099998  32.730000  66.570000  29.870001   \n",
       "2011-12-27  16.00  26.754864  37.160000  32.849998  66.379997  30.040001   \n",
       "2011-12-28  15.87  26.192375  36.669998  32.410000  65.910004  29.950001   \n",
       "2011-12-29  16.27  26.534760  37.189999  32.779999  66.540001  30.170000   \n",
       "2011-12-30  16.33  26.917904  37.200001  32.709999  66.349998  30.240000   \n",
       "\n",
       "ticker        C_lag_1   MS_lag_1  \n",
       "date                              \n",
       "2011-01-04  49.000000  28.230000  \n",
       "2011-01-05  49.000000  28.469999  \n",
       "2011-01-06  49.700001  28.830000  \n",
       "2011-01-07  49.500000  28.799999  \n",
       "2011-01-10  49.400002  28.200001  \n",
       "...               ...        ...  \n",
       "2011-12-23  27.650000  15.880000  \n",
       "2011-12-27  27.459999  15.760000  \n",
       "2011-12-28  26.900000  15.290000  \n",
       "2011-12-29  26.129999  14.900000  \n",
       "2011-12-30  26.760000  15.240000  \n",
       "\n",
       "[251 rows x 28 columns]"
      ]
     },
     "execution_count": 22,
     "metadata": {},
     "output_type": "execute_result"
    }
   ],
   "source": [
    "russell1000_pairs_df"
   ]
  },
  {
   "cell_type": "code",
   "execution_count": null,
   "metadata": {
    "cell_id": "0515145d8bbf4b0a8204f4a3f0c2ef26",
    "deepnote_cell_type": "code",
    "deepnote_to_be_reexecuted": false,
    "execution_millis": 173,
    "execution_start": 1686408066535,
    "source_hash": "ef419411"
   },
   "outputs": [
    {
     "name": "stdout",
     "output_type": "stream",
     "text": [
      "Hedge Ratio (Beta) = 0.652 for ('C', 'MS')\n",
      "Average Distance (Spread) between pair = -2.589\n",
      "ticker        C       MS\n",
      "ticker                  \n",
      "C       1.00000  0.87136\n",
      "MS      0.87136  1.00000\n",
      "\n",
      "\n",
      "Hedge Ratio (Beta) = 0.614 for ('BK', 'SCHW')\n",
      "Average Distance (Spread) between pair = -0.172\n",
      "ticker        BK      SCHW\n",
      "ticker                    \n",
      "BK      1.000000  0.794436\n",
      "SCHW    0.794436  1.000000\n",
      "\n",
      "\n",
      "Hedge Ratio (Beta) = 5.26 for ('MPW', 'VNO')\n",
      "Average Distance (Spread) between pair = 5.947\n",
      "ticker       MPW       VNO\n",
      "ticker                    \n",
      "MPW     1.000000  0.862244\n",
      "VNO     0.862244  1.000000\n",
      "\n",
      "\n",
      "Hedge Ratio (Beta) = 0.308 for ('IVZ', 'KEY')\n",
      "Average Distance (Spread) between pair = 1.119\n",
      "ticker       IVZ       KEY\n",
      "ticker                    \n",
      "IVZ     1.000000  0.822213\n",
      "KEY     0.822213  1.000000\n",
      "\n",
      "\n",
      "4 pairs with R-squared > 0.9 are:  [('C', 'MS'), ('BK', 'SCHW'), ('MPW', 'VNO'), ('IVZ', 'KEY')]\n"
     ]
    }
   ],
   "source": [
    "watchlist_pairs = []\n",
    "spread_df = pd.DataFrame()\n",
    "\n",
    "for i in range(len(russell1000_pairs)):\n",
    "    X = sm.add_constant(russell1000_pairs_df[russell1000_pairs[i][0]])\n",
    "    model = sm.OLS(russell1000_pairs_df[russell1000_pairs[i][1]], X)\n",
    "    results = model.fit()\n",
    "    \n",
    "    if (results.rsquared > 0.9):\n",
    "        # print(results.summary())\n",
    "        watchlist_pairs.append(russell1000_pairs[i])\n",
    "\n",
    "        print(\"Hedge Ratio (Beta) =\", round(results.params[russell1000_pairs[i][0]], 3), \"for\", russell1000_pairs[i])\n",
    "        print(\"Average Distance (Spread) between pair =\", round(results.params['const'], 3))\n",
    "        print(pairs_corr[list(russell1000_pairs[i])].loc[list(russell1000_pairs[i])])\n",
    "        print(\"\\n\")\n",
    "\n",
    "        spread_df[\"pair_{0}\".format(i)] \\\n",
    "        = russell1000_pairs_df[russell1000_pairs[i][1]] - results.params[0] \\\n",
    "        - results.params[1]* russell1000_pairs_df[russell1000_pairs[i][0]]\n",
    "\n",
    "print(len(watchlist_pairs), \"pairs with R-squared > 0.9 are: \", watchlist_pairs)"
   ]
  },
  {
   "cell_type": "code",
   "execution_count": null,
   "metadata": {
    "cell_id": "a231ab3375a74ddd8e4dfedb7a2ff3f8",
    "deepnote_cell_type": "code",
    "deepnote_table_loading": false,
    "deepnote_table_state": {
     "filters": [],
     "pageIndex": 0,
     "pageSize": 25,
     "sortBy": []
    },
    "deepnote_to_be_reexecuted": false,
    "execution_millis": 57,
    "execution_start": 1686408066708,
    "source_hash": "fbd3f4f3"
   },
   "outputs": [
    {
     "data": {
      "application/vnd.deepnote.dataframe.v3+json": {
       "column_count": 4,
       "columns": [
        {
         "dtype": "float64",
         "name": "pair_1",
         "stats": {
          "histogram": [
           {
            "bin_end": 0.356372326756831,
            "bin_start": 0.3338913779024004,
            "count": 1
           },
           {
            "bin_end": 0.3788532756112616,
            "bin_start": 0.356372326756831,
            "count": 1
           },
           {
            "bin_end": 0.4013342244656922,
            "bin_start": 0.3788532756112616,
            "count": 0
           },
           {
            "bin_end": 0.4238151733201228,
            "bin_start": 0.4013342244656922,
            "count": 0
           },
           {
            "bin_end": 0.4462961221745534,
            "bin_start": 0.4238151733201228,
            "count": 2
           },
           {
            "bin_end": 0.46877707102898397,
            "bin_start": 0.4462961221745534,
            "count": 0
           },
           {
            "bin_end": 0.49125801988341455,
            "bin_start": 0.46877707102898397,
            "count": 0
           },
           {
            "bin_end": 0.5137389687378452,
            "bin_start": 0.49125801988341455,
            "count": 0
           },
           {
            "bin_end": 0.5362199175922757,
            "bin_start": 0.5137389687378452,
            "count": 0
           },
           {
            "bin_end": 0.5587008664467064,
            "bin_start": 0.5362199175922757,
            "count": 1
           }
          ],
          "max": "0.5587008664467064",
          "min": "0.3338913779024004",
          "nan_count": 0,
          "unique_count": 5
         }
        },
        {
         "dtype": "float64",
         "name": "pair_3",
         "stats": {
          "histogram": [
           {
            "bin_end": -0.820684802862495,
            "bin_start": -0.848209607546524,
            "count": 1
           },
           {
            "bin_end": -0.793159998178466,
            "bin_start": -0.820684802862495,
            "count": 0
           },
           {
            "bin_end": -0.7656351934944372,
            "bin_start": -0.793159998178466,
            "count": 1
           },
           {
            "bin_end": -0.7381103888104082,
            "bin_start": -0.7656351934944372,
            "count": 0
           },
           {
            "bin_end": -0.7105855841263793,
            "bin_start": -0.7381103888104082,
            "count": 0
           },
           {
            "bin_end": -0.6830607794423503,
            "bin_start": -0.7105855841263793,
            "count": 0
           },
           {
            "bin_end": -0.6555359747583214,
            "bin_start": -0.6830607794423503,
            "count": 0
           },
           {
            "bin_end": -0.6280111700742925,
            "bin_start": -0.6555359747583214,
            "count": 0
           },
           {
            "bin_end": -0.6004863653902636,
            "bin_start": -0.6280111700742925,
            "count": 2
           },
           {
            "bin_end": -0.5729615607062346,
            "bin_start": -0.6004863653902636,
            "count": 1
           }
          ],
          "max": "-0.5729615607062346",
          "min": "-0.848209607546524",
          "nan_count": 0,
          "unique_count": 5
         }
        },
        {
         "dtype": "float64",
         "name": "pair_6",
         "stats": {
          "histogram": [
           {
            "bin_end": -2.6151936011579453,
            "bin_start": -2.7250499445068925,
            "count": 1
           },
           {
            "bin_end": -2.5053372578089976,
            "bin_start": -2.6151936011579453,
            "count": 0
           },
           {
            "bin_end": -2.3954809144600504,
            "bin_start": -2.5053372578089976,
            "count": 0
           },
           {
            "bin_end": -2.2856245711111027,
            "bin_start": -2.3954809144600504,
            "count": 0
           },
           {
            "bin_end": -2.1757682277621555,
            "bin_start": -2.2856245711111027,
            "count": 2
           },
           {
            "bin_end": -2.0659118844132083,
            "bin_start": -2.1757682277621555,
            "count": 1
           },
           {
            "bin_end": -1.9560555410642606,
            "bin_start": -2.0659118844132083,
            "count": 0
           },
           {
            "bin_end": -1.8461991977153134,
            "bin_start": -1.9560555410642606,
            "count": 0
           },
           {
            "bin_end": -1.7363428543663657,
            "bin_start": -1.8461991977153134,
            "count": 0
           },
           {
            "bin_end": -1.6264865110174185,
            "bin_start": -1.7363428543663657,
            "count": 1
           }
          ],
          "max": "-1.6264865110174185",
          "min": "-2.7250499445068925",
          "nan_count": 0,
          "unique_count": 5
         }
        },
        {
         "dtype": "float64",
         "name": "pair_7",
         "stats": {
          "histogram": [
           {
            "bin_end": 0.39136146569009317,
            "bin_start": 0.3836694230946227,
            "count": 1
           },
           {
            "bin_end": 0.39905350828556363,
            "bin_start": 0.39136146569009317,
            "count": 0
           },
           {
            "bin_end": 0.40674555088103415,
            "bin_start": 0.39905350828556363,
            "count": 0
           },
           {
            "bin_end": 0.4144375934765046,
            "bin_start": 0.40674555088103415,
            "count": 0
           },
           {
            "bin_end": 0.42212963607197507,
            "bin_start": 0.4144375934765046,
            "count": 1
           },
           {
            "bin_end": 0.42982167866744553,
            "bin_start": 0.42212963607197507,
            "count": 0
           },
           {
            "bin_end": 0.437513721262916,
            "bin_start": 0.42982167866744553,
            "count": 1
           },
           {
            "bin_end": 0.4452057638583865,
            "bin_start": 0.437513721262916,
            "count": 0
           },
           {
            "bin_end": 0.45289780645385697,
            "bin_start": 0.4452057638583865,
            "count": 0
           },
           {
            "bin_end": 0.4605898490493274,
            "bin_start": 0.45289780645385697,
            "count": 2
           }
          ],
          "max": "0.4605898490493274",
          "min": "0.3836694230946227",
          "nan_count": 0,
          "unique_count": 5
         }
        },
        {
         "dtype": "object",
         "name": "_deepnote_index_column"
        }
       ],
       "row_count": 5,
       "rows": [
        {
         "_deepnote_index_column": "2011-12-23",
         "pair_1": 0.4386497447944535,
         "pair_3": -0.6143482794176691,
         "pair_6": -2.187231059601629,
         "pair_7": 0.433635268463191
        },
        {
         "_deepnote_index_column": "2011-12-27",
         "pair_1": 0.3338913779024004,
         "pair_3": -0.5729615607062346,
         "pair_6": -2.7250499445068925,
         "pair_7": 0.4205898490493283
        },
        {
         "_deepnote_index_column": "2011-12-28",
         "pair_1": 0.4461001724444529,
         "pair_3": -0.6174146858604956,
         "pair_6": -2.184294068564796,
         "pair_7": 0.4530115329970146
        },
        {
         "_deepnote_index_column": "2011-12-29",
         "pair_1": 0.3752019492339791,
         "pair_3": -0.848209607546524,
         "pair_6": -2.108537617149004,
         "pair_7": 0.4605898490493274
        },
        {
         "_deepnote_index_column": "2011-12-30",
         "pair_1": 0.5587008664467064,
         "pair_3": -0.7899908576082311,
         "pair_6": -1.6264865110174185,
         "pair_7": 0.3836694230946227
        }
       ]
      },
      "text/html": [
       "<div>\n",
       "<style scoped>\n",
       "    .dataframe tbody tr th:only-of-type {\n",
       "        vertical-align: middle;\n",
       "    }\n",
       "\n",
       "    .dataframe tbody tr th {\n",
       "        vertical-align: top;\n",
       "    }\n",
       "\n",
       "    .dataframe thead th {\n",
       "        text-align: right;\n",
       "    }\n",
       "</style>\n",
       "<table border=\"1\" class=\"dataframe\">\n",
       "  <thead>\n",
       "    <tr style=\"text-align: right;\">\n",
       "      <th></th>\n",
       "      <th>pair_1</th>\n",
       "      <th>pair_3</th>\n",
       "      <th>pair_6</th>\n",
       "      <th>pair_7</th>\n",
       "    </tr>\n",
       "    <tr>\n",
       "      <th>date</th>\n",
       "      <th></th>\n",
       "      <th></th>\n",
       "      <th></th>\n",
       "      <th></th>\n",
       "    </tr>\n",
       "  </thead>\n",
       "  <tbody>\n",
       "    <tr>\n",
       "      <th>2011-12-23</th>\n",
       "      <td>0.438650</td>\n",
       "      <td>-0.614348</td>\n",
       "      <td>-2.187231</td>\n",
       "      <td>0.433635</td>\n",
       "    </tr>\n",
       "    <tr>\n",
       "      <th>2011-12-27</th>\n",
       "      <td>0.333891</td>\n",
       "      <td>-0.572962</td>\n",
       "      <td>-2.725050</td>\n",
       "      <td>0.420590</td>\n",
       "    </tr>\n",
       "    <tr>\n",
       "      <th>2011-12-28</th>\n",
       "      <td>0.446100</td>\n",
       "      <td>-0.617415</td>\n",
       "      <td>-2.184294</td>\n",
       "      <td>0.453012</td>\n",
       "    </tr>\n",
       "    <tr>\n",
       "      <th>2011-12-29</th>\n",
       "      <td>0.375202</td>\n",
       "      <td>-0.848210</td>\n",
       "      <td>-2.108538</td>\n",
       "      <td>0.460590</td>\n",
       "    </tr>\n",
       "    <tr>\n",
       "      <th>2011-12-30</th>\n",
       "      <td>0.558701</td>\n",
       "      <td>-0.789991</td>\n",
       "      <td>-1.626487</td>\n",
       "      <td>0.383669</td>\n",
       "    </tr>\n",
       "  </tbody>\n",
       "</table>\n",
       "</div>"
      ],
      "text/plain": [
       "              pair_1    pair_3    pair_6    pair_7\n",
       "date                                              \n",
       "2011-12-23  0.438650 -0.614348 -2.187231  0.433635\n",
       "2011-12-27  0.333891 -0.572962 -2.725050  0.420590\n",
       "2011-12-28  0.446100 -0.617415 -2.184294  0.453012\n",
       "2011-12-29  0.375202 -0.848210 -2.108538  0.460590\n",
       "2011-12-30  0.558701 -0.789991 -1.626487  0.383669"
      ]
     },
     "execution_count": 14,
     "metadata": {},
     "output_type": "execute_result"
    }
   ],
   "source": [
    "spread_df.tail()"
   ]
  },
  {
   "cell_type": "code",
   "execution_count": null,
   "metadata": {
    "cell_id": "ebd20a9d60ff4c1dad1ed3a3614811e6",
    "deepnote_cell_type": "code",
    "deepnote_to_be_reexecuted": false,
    "execution_millis": 41,
    "execution_start": 1686408066786,
    "source_hash": "4d1be25e"
   },
   "outputs": [
    {
     "data": {
      "application/vnd.deepnote.dataframe.v3+json": {
       "column_count": 1,
       "columns": [
        {
         "dtype": "float64",
         "name": "pair_1",
         "stats": {
          "histogram": [
           {
            "bin_end": -2.0913252508052107,
            "bin_start": -2.5241728573562696,
            "count": 2
           },
           {
            "bin_end": -1.6584776442541518,
            "bin_start": -2.0913252508052107,
            "count": 10
           },
           {
            "bin_end": -1.2256300377030929,
            "bin_start": -1.6584776442541518,
            "count": 13
           },
           {
            "bin_end": -0.792782431152034,
            "bin_start": -1.2256300377030929,
            "count": 19
           },
           {
            "bin_end": -0.35993482460097503,
            "bin_start": -0.792782431152034,
            "count": 29
           },
           {
            "bin_end": 0.07291278195008388,
            "bin_start": -0.35993482460097503,
            "count": 59
           },
           {
            "bin_end": 0.5057603885011428,
            "bin_start": 0.07291278195008388,
            "count": 49
           },
           {
            "bin_end": 0.9386079950522017,
            "bin_start": 0.5057603885011428,
            "count": 35
           },
           {
            "bin_end": 1.3714556016032606,
            "bin_start": 0.9386079950522017,
            "count": 21
           },
           {
            "bin_end": 1.8043032081543195,
            "bin_start": 1.3714556016032606,
            "count": 15
           }
          ],
          "max": "1.8043032081543195",
          "min": "-2.5241728573562696",
          "nan_count": 0,
          "unique_count": 251
         }
        },
        {
         "dtype": "object",
         "name": "_deepnote_index_column"
        }
       ],
       "row_count": 252,
       "rows": [
        {
         "_deepnote_index_column": "2011-01-03",
         "pair_1": -1.1401345251539468
        },
        {
         "_deepnote_index_column": "2011-01-04",
         "pair_1": -0.9001355251539458
        },
        {
         "_deepnote_index_column": "2011-01-05",
         "pair_1": -0.9966880340302104
        },
        {
         "_deepnote_index_column": "2011-01-06",
         "pair_1": -0.8962447084810101
        },
        {
         "_deepnote_index_column": "2011-01-07",
         "pair_1": -1.4310221762523305
        },
        {
         "_deepnote_index_column": "2011-01-10",
         "pair_1": -1.3853560573826265
        },
        {
         "_deepnote_index_column": "2011-01-11",
         "pair_1": -1.671024176252331
        },
        {
         "_deepnote_index_column": "2011-01-12",
         "pair_1": -1.8341279329130202
        },
        {
         "_deepnote_index_column": "2011-01-13",
         "pair_1": -1.9832425429064706
        },
        {
         "_deepnote_index_column": "2011-01-14",
         "pair_1": -1.8902361162400894
        }
       ]
      },
      "text/html": [
       "<div>\n",
       "<style scoped>\n",
       "    .dataframe tbody tr th:only-of-type {\n",
       "        vertical-align: middle;\n",
       "    }\n",
       "\n",
       "    .dataframe tbody tr th {\n",
       "        vertical-align: top;\n",
       "    }\n",
       "\n",
       "    .dataframe thead th {\n",
       "        text-align: right;\n",
       "    }\n",
       "</style>\n",
       "<table border=\"1\" class=\"dataframe\">\n",
       "  <thead>\n",
       "    <tr style=\"text-align: right;\">\n",
       "      <th></th>\n",
       "      <th>pair_1</th>\n",
       "    </tr>\n",
       "    <tr>\n",
       "      <th>date</th>\n",
       "      <th></th>\n",
       "    </tr>\n",
       "  </thead>\n",
       "  <tbody>\n",
       "    <tr>\n",
       "      <th>2011-01-03</th>\n",
       "      <td>-1.140135</td>\n",
       "    </tr>\n",
       "    <tr>\n",
       "      <th>2011-01-04</th>\n",
       "      <td>-0.900136</td>\n",
       "    </tr>\n",
       "    <tr>\n",
       "      <th>2011-01-05</th>\n",
       "      <td>-0.996688</td>\n",
       "    </tr>\n",
       "    <tr>\n",
       "      <th>2011-01-06</th>\n",
       "      <td>-0.896245</td>\n",
       "    </tr>\n",
       "    <tr>\n",
       "      <th>2011-01-07</th>\n",
       "      <td>-1.431022</td>\n",
       "    </tr>\n",
       "    <tr>\n",
       "      <th>...</th>\n",
       "      <td>...</td>\n",
       "    </tr>\n",
       "    <tr>\n",
       "      <th>2011-12-23</th>\n",
       "      <td>0.438650</td>\n",
       "    </tr>\n",
       "    <tr>\n",
       "      <th>2011-12-27</th>\n",
       "      <td>0.333891</td>\n",
       "    </tr>\n",
       "    <tr>\n",
       "      <th>2011-12-28</th>\n",
       "      <td>0.446100</td>\n",
       "    </tr>\n",
       "    <tr>\n",
       "      <th>2011-12-29</th>\n",
       "      <td>0.375202</td>\n",
       "    </tr>\n",
       "    <tr>\n",
       "      <th>2011-12-30</th>\n",
       "      <td>0.558701</td>\n",
       "    </tr>\n",
       "  </tbody>\n",
       "</table>\n",
       "<p>252 rows × 1 columns</p>\n",
       "</div>"
      ],
      "text/plain": [
       "              pair_1\n",
       "date                \n",
       "2011-01-03 -1.140135\n",
       "2011-01-04 -0.900136\n",
       "2011-01-05 -0.996688\n",
       "2011-01-06 -0.896245\n",
       "2011-01-07 -1.431022\n",
       "...              ...\n",
       "2011-12-23  0.438650\n",
       "2011-12-27  0.333891\n",
       "2011-12-28  0.446100\n",
       "2011-12-29  0.375202\n",
       "2011-12-30  0.558701\n",
       "\n",
       "[252 rows x 1 columns]"
      ]
     },
     "execution_count": 15,
     "metadata": {},
     "output_type": "execute_result"
    }
   ],
   "source": [
    "spread_df[[\"pair_1\"]]"
   ]
  },
  {
   "cell_type": "markdown",
   "metadata": {
    "cell_id": "2345e94804764479b797e2185fb2aa9d",
    "deepnote_cell_type": "text-cell-h3",
    "formattedRanges": [],
    "is_collapsed": false
   },
   "source": [
    "### Check for Stationarity of Spread (Mean Reversion)"
   ]
  },
  {
   "cell_type": "markdown",
   "metadata": {
    "cell_id": "355fe8ae133348fdb8a736a02d492863",
    "deepnote_cell_type": "text-cell-p",
    "formattedRanges": []
   },
   "source": [
    "To check for stationarity of the spread in pairs trading, you can use statistical tests such as the Augmented Dickey-Fuller (ADF) test or the Phillips-Perron (PP) test. These tests help determine if a time series is stationary or exhibits a unit root, indicating non-stationarity. (The stationarity of the spread is an indication of a potential cointegrated relationship between the two stocks, but the individual stocks may still exhibit non-stationary behavior.)"
   ]
  },
  {
   "cell_type": "code",
   "execution_count": null,
   "metadata": {
    "cell_id": "ff9cec8fe5ab45bba33fb4b931abd62e",
    "deepnote_cell_type": "code",
    "deepnote_to_be_reexecuted": false,
    "execution_millis": 27,
    "execution_start": 1686408066843,
    "source_hash": "81970f51"
   },
   "outputs": [
    {
     "name": "stdout",
     "output_type": "stream",
     "text": [
      "ADF Statistic: -3.611449931509699\n",
      "p-value: 0.005545865008545693\n",
      "Critical Values:\n",
      "1%: -3.4566744514553016\n",
      "5%: -2.8731248767783426\n",
      "10%: -2.5729436702592023\n"
     ]
    }
   ],
   "source": [
    "# Perform ADF test on the first watchlist pair\n",
    "result = sm.tsa.stattools.adfuller(spread_df[\"pair_1\"])\n",
    "\n",
    "# Extract ADF test results\n",
    "adf_statistic = result[0]\n",
    "p_value = result[1]\n",
    "critical_values = result[4]\n",
    "\n",
    "# Print ADF test results\n",
    "print(\"ADF Statistic:\", adf_statistic)\n",
    "print(\"p-value:\", p_value)\n",
    "print(\"Critical Values:\")\n",
    "for key, value in critical_values.items():\n",
    "    print(\"{}: {}\".format(key, value))"
   ]
  },
  {
   "cell_type": "markdown",
   "metadata": {
    "cell_id": "1cd4939c13e34478b98d9d972c657adb",
    "deepnote_cell_type": "text-cell-p",
    "formattedRanges": []
   },
   "source": [
    "The more negative (or less positive) the ADF statistic, the stronger the evidence against the null hypothesis of non-stationarity. If the ADF statistic is more negative than the critical values, it suggests rejecting the null hypothesis in favor of stationarity."
   ]
  },
  {
   "cell_type": "markdown",
   "metadata": {
    "cell_id": "401d2c5b88504a5b815a5f709e4fbdb5",
    "deepnote_cell_type": "text-cell-p",
    "formattedRanges": []
   },
   "source": [
    "p-value: The p-value is the probability of observing the given ADF statistic if the null hypothesis is true (i.e., if the time series is non-stationary). A lower p-value suggests stronger evidence against the null hypothesis of non-stationarity. Typically, if the p-value is less than a predetermined significance level (e.g., 0.05), the null hypothesis is rejected, indicating stationarity."
   ]
  },
  {
   "cell_type": "markdown",
   "metadata": {
    "cell_id": "67a8120630394ec08da642a03f73f066",
    "deepnote_cell_type": "text-cell-h1",
    "formattedRanges": []
   },
   "source": [
    "# Cointegration"
   ]
  },
  {
   "cell_type": "markdown",
   "metadata": {
    "cell_id": "b7c454af88cd4598a904380d9f3c81b7",
    "deepnote_cell_type": "text-cell-p",
    "formattedRanges": [
     {
      "fromCodePoint": 18,
      "marks": {
       "bold": true
      },
      "toCodePoint": 52,
      "type": "marks"
     },
     {
      "fromCodePoint": 71,
      "marks": {
       "bold": true
      },
      "toCodePoint": 85,
      "type": "marks"
     }
    ]
   },
   "source": [
    "It relates to the long-term equilibrium relationship between 2 or more non-stationary time series variables. It measures how 2 or more variables move together over time, despite possibly having short-term fluctuations or differences. Cointegration is typically assessed using statistical tests, such as the Engle-Granger test or the Johansen test. (These tests evaluate the presence of a linear combination of the stock prices or returns that is stationary over time.)"
   ]
  },
  {
   "cell_type": "markdown",
   "metadata": {
    "cell_id": "15c87b1a9ebd4ee1ab730482b2b77e5a",
    "color": "yellow",
    "deepnote_cell_type": "text-cell-callout",
    "formattedRanges": [],
    "is_collapsed": false
   },
   "source": [
    "> Key Idea: Even though the individual variables may have their own short-term fluctuations, there exists a linear combination of these variables that is stationary => it has a constant mean and does not exhibit trends. "
   ]
  },
  {
   "cell_type": "markdown",
   "metadata": {
    "cell_id": "31e193648b4948a185d832e18d4e95c3",
    "deepnote_cell_type": "text-cell-p",
    "formattedRanges": []
   },
   "source": [
    "Stationarity of the spread is a necessary condition for cointegration, but it is not sufficient. Cointegration requires a long-term equilibrium relationship between the stocks, and the spread being stationary suggests that any deviations from this equilibrium will be corrected over time."
   ]
  },
  {
   "cell_type": "markdown",
   "metadata": {
    "cell_id": "4a89cd0c32e24ef9ab28118a2c808317",
    "deepnote_cell_type": "text-cell-p",
    "formattedRanges": []
   },
   "source": [
    "Additionally, it is important to consider other factors and conduct further analysis to validate the cointegrated relationship. This may include assessing the economic or fundamental relationship between the stocks, considering the time frame and sample size of the data, and evaluating the stability of the relationship over different periods."
   ]
  },
  {
   "cell_type": "code",
   "execution_count": null,
   "metadata": {
    "cell_id": "3b9fc676b8904d99b7480a911f41d133",
    "deepnote_cell_type": "code",
    "deepnote_to_be_reexecuted": false,
    "execution_millis": 91,
    "execution_start": 1686408066874,
    "source_hash": "df6dcc66"
   },
   "outputs": [
    {
     "name": "stdout",
     "output_type": "stream",
     "text": [
      "Test Statistic: -3.6531297978770376\n",
      "P-value: 0.02102693777309062\n",
      "Critical Values: [-3.94060523 -3.36058133 -3.06139039]\n"
     ]
    }
   ],
   "source": [
    "#Testing with 1 pair russell1000_pairs_df[[\"C\", \"MS\"]]\n",
    "\n",
    "stock1 = russell1000_pairs_df['C']\n",
    "stock2 = russell1000_pairs_df['MS']\n",
    "\n",
    "# Perform the Engle-Granger test for cointegration\n",
    "result = coint(stock1, stock2)\n",
    "\n",
    "# Extract the test statistic, p-value, and critical values\n",
    "test_statistic = result[0]\n",
    "p_value = result[1]\n",
    "critical_values = result[2]\n",
    "\n",
    "# Print the test results\n",
    "print('Test Statistic:', test_statistic)\n",
    "print('P-value:', p_value)\n",
    "print('Critical Values:', critical_values)\n"
   ]
  },
  {
   "cell_type": "markdown",
   "metadata": {
    "cell_id": "9bac9a6d710f43149308a2da37aa2697",
    "deepnote_cell_type": "text-cell-bullet",
    "formattedRanges": [],
    "is_collapsed": false
   },
   "source": [
    "- If the p-value is less than the significance level (e.g., p-value < 0.05), you can conclude that there is strong evidence of cointegration between the two stocks. This suggests that the pair of stocks has a long-term equilibrium relationship, and any deviations from this equilibrium will be corrected over time."
   ]
  },
  {
   "cell_type": "markdown",
   "metadata": {
    "cell_id": "695b0bff36e44059868a068ebcf86497",
    "color": "yellow",
    "deepnote_cell_type": "text-cell-callout",
    "formattedRanges": [
     {
      "fromCodePoint": 90,
      "marks": {
       "bold": true
      },
      "toCodePoint": 105,
      "type": "marks"
     }
    ],
    "is_collapsed": false
   },
   "source": [
    "> If conintegrating relationship exists, residuals will be judged as stationary and we will estimate an ECM as the best predictive model for Y in terms of X."
   ]
  },
  {
   "cell_type": "markdown",
   "metadata": {
    "cell_id": "7f4dab5a4a274933bb02d26fffa3b394",
    "deepnote_cell_type": "markdown"
   },
   "source": [
    "ECM: $\\triangle Y_t = \\gamma + \\beta_1 \\triangle X_t + \\alpha(Y_{t-1} - \\beta_0 - \\beta_1 X_{t-1}) + v_t$\n",
    "\n",
    "Focusing on the transient term (i.e. regressing against lagged variables only)"
   ]
  },
  {
   "cell_type": "code",
   "execution_count": null,
   "metadata": {
    "cell_id": "ab877068b1b443d0bf574c9ecaac326f",
    "deepnote_cell_type": "code",
    "deepnote_to_be_reexecuted": false,
    "execution_millis": 2,
    "execution_start": 1686408067007,
    "source_hash": "e2e5a112"
   },
   "outputs": [
    {
     "name": "stdout",
     "output_type": "stream",
     "text": [
      "const       0.414290\n",
      "C_lag_1     0.941976\n",
      "MS_lag_1    0.076387\n",
      "dtype: float64\n"
     ]
    }
   ],
   "source": [
    "# Create the lagged variables\n",
    "russell1000_pairs_df['C_lag_1'] = russell1000_pairs_df['C'].shift(1)\n",
    "russell1000_pairs_df['MS_lag_1'] = russell1000_pairs_df['MS'].shift(1)\n",
    "russell1000_pairs_df.dropna(inplace=True)\n",
    "\n",
    "y = russell1000_pairs_df['C']\n",
    "X = russell1000_pairs_df[['C_lag_1', 'MS_lag_1']]\n",
    "X = sm.add_constant(X)\n",
    "\n",
    "# Create the Error Correction Model (ECM)\n",
    "model = sm.OLS(y, X)\n",
    "results = model.fit()\n",
    "ecm_coefficients = results.params\n",
    "residuals = results.resid  #ECT\n",
    "\n",
    "# Print the ECM coefficients\n",
    "print(ecm_coefficients)"
   ]
  },
  {
   "cell_type": "markdown",
   "metadata": {
    "cell_id": "6004e30bf1b84a50974b80d7abc2ae4d",
    "deepnote_cell_type": "text-cell-p",
    "formattedRanges": [
     {
      "fromCodePoint": 28,
      "marks": {
       "bold": true
      },
      "toCodePoint": 31,
      "type": "marks"
     },
     {
      "fromCodePoint": 250,
      "marks": {
       "bold": true
      },
      "toCodePoint": 258,
      "type": "marks"
     }
    ]
   },
   "source": [
    " The error correction term (ECT) is implicitly captured by the coefficients of the lagged variables in the model. In an ECM, the ECT represents the speed of adjustment towards the long-term equilibrium relationship. It is typically calculated as the residual from regressing the dependent variable on its lagged values and the lagged independent variables. The coefficient associated with the lagged dependent variable in this regression captures the impact of the error correction term on the dependent variable."
   ]
  },
  {
   "cell_type": "code",
   "execution_count": null,
   "metadata": {
    "cell_id": "b38f01fc1d114b4eaef5b347206fbf9d",
    "deepnote_cell_type": "code",
    "deepnote_to_be_reexecuted": false,
    "execution_millis": 54,
    "execution_start": 1686408067008,
    "source_hash": "7980c79"
   },
   "outputs": [
    {
     "name": "stdout",
     "output_type": "stream",
     "text": [
      "                            OLS Regression Results                            \n",
      "==============================================================================\n",
      "Dep. Variable:                      C   R-squared:                       0.985\n",
      "Model:                            OLS   Adj. R-squared:                  0.984\n",
      "Method:                 Least Squares   F-statistic:                     7889.\n",
      "Date:                Sat, 10 Jun 2023   Prob (F-statistic):          3.26e-225\n",
      "Time:                        14:41:06   Log-Likelihood:                -368.09\n",
      "No. Observations:                 251   AIC:                             742.2\n",
      "Df Residuals:                     248   BIC:                             752.8\n",
      "Df Model:                           2                                         \n",
      "Covariance Type:            nonrobust                                         \n",
      "==============================================================================\n",
      "                 coef    std err          t      P>|t|      [0.025      0.975]\n",
      "------------------------------------------------------------------------------\n",
      "const          0.4143      0.363      1.141      0.255      -0.301       1.129\n",
      "C_lag_1        0.9420      0.051     18.535      0.000       0.842       1.042\n",
      "MS_lag_1       0.0764      0.077      0.993      0.322      -0.075       0.228\n",
      "==============================================================================\n",
      "Omnibus:                       40.804   Durbin-Watson:                   2.190\n",
      "Prob(Omnibus):                  0.000   Jarque-Bera (JB):              133.471\n",
      "Skew:                          -0.644   Prob(JB):                     1.04e-29\n",
      "Kurtosis:                       6.332   Cond. No.                         245.\n",
      "==============================================================================\n",
      "\n",
      "Notes:\n",
      "[1] Standard Errors assume that the covariance matrix of the errors is correctly specified.\n"
     ]
    }
   ],
   "source": [
    "print(results.summary())"
   ]
  },
  {
   "cell_type": "markdown",
   "metadata": {
    "cell_id": "8e001273a54c465799074449ff522499",
    "deepnote_cell_type": "text-cell-bullet",
    "formattedRanges": [],
    "is_collapsed": false
   },
   "source": [
    "- When the error correction term in an Error Correction Model (ECM) is positive, it suggests that there is a tendency for the variables to adjust towards their long-term equilibrium relationship. This implies that if the variables deviate from their equilibrium, the error correction term will act to bring them back in line. "
   ]
  },
  {
   "cell_type": "markdown",
   "metadata": {
    "cell_id": "bc749043b54540ac96e05938d43625c8",
    "deepnote_cell_type": "text-cell-bullet",
    "formattedRanges": [],
    "is_collapsed": false
   },
   "source": [
    "- When the error correction term in an Error Correction Model (ECM) is negative, it suggests that there is a tendency for the variables to move further away from their long-term equilibrium relationship. This implies that if the variables deviate from their equilibrium, the error correction term will act to amplify the deviation."
   ]
  },
  {
   "cell_type": "markdown",
   "metadata": {
    "cell_id": "6b95d9a0c8c844c491301a06acb79162",
    "deepnote_cell_type": "text-cell-bullet",
    "formattedRanges": [],
    "is_collapsed": false
   },
   "source": [
    "- The positive ECT indicates that there is a restorative force pushing the variables back towards their equilibrium when they diverge. As the variables deviate from their equilibrium, the positive ECT implies that they will gradually adjust to reduce the deviation over time. However, the exact speed and path of convergence can be influenced by various factors, including market dynamics, trading volumes, liquidity, and other market participants' actions."
   ]
  },
  {
   "cell_type": "code",
   "execution_count": null,
   "metadata": {
    "cell_id": "e87992b9f5394182b017567d37d3a2d5",
    "deepnote_cell_type": "code",
    "deepnote_to_be_reexecuted": false,
    "execution_millis": 263,
    "execution_start": 1686408067057,
    "source_hash": "9a393b69"
   },
   "outputs": [
    {
     "data": {
      "text/plain": [
       "<AxesSubplot: xlabel='date'>"
      ]
     },
     "execution_count": 20,
     "metadata": {},
     "output_type": "execute_result"
    },
    {
     "data": {
      "image/png": "[encoded data removed]",
      "text/plain": [
       "<Figure size 640x480 with 1 Axes>"
      ]
     },
     "metadata": {
      "image/png": {
       "height": 432,
       "width": 563
      }
     },
     "output_type": "display_data"
    }
   ],
   "source": [
    "#These residuals represent the error correction term, \n",
    "#capturing the deviation from the long-term equilibrium relationship between the two stocks.\n",
    "residuals.plot()"
   ]
  },
  {
   "cell_type": "code",
   "execution_count": null,
   "metadata": {
    "cell_id": "d54742a5efdf490aba165daba37cb108",
    "deepnote_cell_type": "code",
    "deepnote_to_be_reexecuted": false,
    "execution_millis": 4,
    "execution_start": 1686408067747,
    "source_hash": "5d63bead"
   },
   "outputs": [],
   "source": [
    "# Calculate the spread between the two stocks\n",
    "# spread = russell1000_pairs_df['C'] - residuals * russell1000_pairs_df['MS']"
   ]
  },
  {
   "cell_type": "markdown",
   "metadata": {
    "cell_id": "4be984e207c642d7b8d022b95c48463b",
    "deepnote_cell_type": "text-cell-h1",
    "formattedRanges": []
   },
   "source": [
    "# Distance Measure"
   ]
  },
  {
   "cell_type": "markdown",
   "metadata": {
    "cell_id": "61b56ed82c84496d84bc2eec0aba3721",
    "deepnote_cell_type": "text-cell-p",
    "formattedRanges": []
   },
   "source": [
    "Some commonly used distance measures include Euclidean distance, correlation distance, or normalized distance measures like z-score or percent change."
   ]
  }
 ],
 "metadata": {
  "deepnote": {},
  "deepnote_execution_queue": [],
  "deepnote_notebook_id": "3054676cc1e74eff8f1c76d8d18a9795",
  "kernelspec": {
   "display_name": "Python 3 (ipykernel)",
   "language": "python",
   "name": "python3"
  },
  "language_info": {
   "codemirror_mode": {
    "name": "ipython",
    "version": 3
   },
   "file_extension": ".py",
   "mimetype": "text/x-python",
   "name": "python",
   "nbconvert_exporter": "python",
   "pygments_lexer": "ipython3",
   "version": "3.11.3"
  }
 },
 "nbformat": 4,
 "nbformat_minor": 1
}
